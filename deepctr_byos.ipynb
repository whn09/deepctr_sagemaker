{
 "cells": [
  {
   "cell_type": "markdown",
   "metadata": {},
   "source": [
    "# Using TensorFlow Scripts in SageMaker - Quickstart\n",
    "\n",
    "Starting with TensorFlow version 1.11, you can use SageMaker's TensorFlow containers to train TensorFlow scripts the same way you would train outside SageMaker. This feature is named **Script Mode**. \n",
    "\n",
    "This example uses \n",
    "[Multi-layer Recurrent Neural Networks (LSTM, RNN) for character-level language models in Python using Tensorflow](https://github.com/sherjilozair/char-rnn-tensorflow). \n",
    "You can use the same technique for other scripts or repositories, including \n",
    "[TensorFlow Model Zoo](https://github.com/tensorflow/models) and \n",
    "[TensorFlow benchmark scripts](https://github.com/tensorflow/benchmarks/tree/master/scripts/tf_cnn_benchmarks)."
   ]
  },
  {
   "cell_type": "markdown",
   "metadata": {},
   "source": [
    "## Test locally using SageMaker Python SDK TensorFlow Estimator"
   ]
  },
  {
   "cell_type": "markdown",
   "metadata": {},
   "source": [
    "You can use the SageMaker Python SDK [`TensorFlow`](https://github.com/aws/sagemaker-python-sdk/blob/master/src/sagemaker/tensorflow/README.rst#training-with-tensorflow) estimator to easily train locally and in SageMaker. \n",
    "\n",
    "Let's start by setting the training script arguments `--num_epochs` and `--data_dir` as hyperparameters. Remember that we don't need to provide `--model_dir`:"
   ]
  },
  {
   "cell_type": "code",
   "execution_count": 1,
   "metadata": {},
   "outputs": [],
   "source": [
    "from sagemaker import get_execution_role\n",
    "\n",
    "role = get_execution_role()"
   ]
  },
  {
   "cell_type": "code",
   "execution_count": 5,
   "metadata": {},
   "outputs": [],
   "source": [
    "hyperparameters = {'train_steps': 10, 'model_name': 'DeepFM'}"
   ]
  },
  {
   "cell_type": "markdown",
   "metadata": {},
   "source": [
    "This notebook shows how to use the SageMaker Python SDK to run your code in a local container before deploying to SageMaker's managed training or hosting environments. Just change your estimator's train_instance_type to local or local_gpu. For more information, see: https://github.com/aws/sagemaker-python-sdk#local-mode.\n",
    "\n",
    "In order to use this feature you'll need to install docker-compose (and nvidia-docker if training with a GPU). Running following script will install docker-compose or nvidia-docker-compose and configure the notebook environment for you.\n",
    "\n",
    "Note, you can only run a single local notebook at a time."
   ]
  },
  {
   "cell_type": "code",
   "execution_count": 6,
   "metadata": {},
   "outputs": [
    {
     "name": "stdout",
     "output_type": "stream",
     "text": [
      "The user has root access.\n",
      "SageMaker instance route table setup is ok. We are good to go.\n",
      "SageMaker instance routing for Docker is ok. We are good to go!\n"
     ]
    }
   ],
   "source": [
    "!/bin/bash ./utils/setup.sh"
   ]
  },
  {
   "cell_type": "markdown",
   "metadata": {},
   "source": [
    "To train locally, you set `train_instance_type` to [local](https://github.com/aws/sagemaker-python-sdk#local-mode):"
   ]
  },
  {
   "cell_type": "code",
   "execution_count": 7,
   "metadata": {},
   "outputs": [
    {
     "name": "stdout",
     "output_type": "stream",
     "text": [
      "Train instance type = local\n"
     ]
    }
   ],
   "source": [
    "import subprocess\n",
    "\n",
    "train_instance_type='local'\n",
    "\n",
    "if subprocess.call('nvidia-smi') == 0:\n",
    "    ## Set type to GPU if one is present\n",
    "    train_instance_type = 'local_gpu'\n",
    "    \n",
    "print(\"Train instance type = \" + train_instance_type)"
   ]
  },
  {
   "cell_type": "markdown",
   "metadata": {},
   "source": [
    "We create the `TensorFlow` Estimator, passing the `git_config` argument and the flag `script_mode=True`. Note that we are using Git integration here, so `source_dir` should be a relative path inside the Git repo; otherwise it should be a relative or absolute local path. the `Tensorflow` Estimator is created as following: \n"
   ]
  },
  {
   "cell_type": "code",
   "execution_count": 8,
   "metadata": {},
   "outputs": [
    {
     "name": "stderr",
     "output_type": "stream",
     "text": [
      "train_instance_type has been renamed in sagemaker>=2.\n",
      "See: https://sagemaker.readthedocs.io/en/stable/v2.html for details.\n",
      "train_instance_count has been renamed in sagemaker>=2.\n",
      "See: https://sagemaker.readthedocs.io/en/stable/v2.html for details.\n",
      "train_instance_type has been renamed in sagemaker>=2.\n",
      "See: https://sagemaker.readthedocs.io/en/stable/v2.html for details.\n"
     ]
    }
   ],
   "source": [
    "import os\n",
    "\n",
    "import sagemaker\n",
    "from sagemaker.tensorflow import TensorFlow\n",
    "\n",
    "\n",
    "estimator = TensorFlow(entry_point='train_estimator.py',\n",
    "                       source_dir='.',\n",
    "                       train_instance_type=train_instance_type,\n",
    "                       train_instance_count=1,\n",
    "                       hyperparameters=hyperparameters,\n",
    "                       role=role,\n",
    "                       framework_version='2.2.0',\n",
    "                       py_version='py37',\n",
    "                       script_mode=True,\n",
    "                       model_dir='/opt/ml/model')"
   ]
  },
  {
   "cell_type": "markdown",
   "metadata": {},
   "source": [
    "To start a training job, we call `estimator.fit(inputs)`, where inputs is a dictionary where the keys, named **channels**, \n",
    "have values pointing to the data location. `estimator.fit(inputs)` downloads the TensorFlow container with TensorFlow Python 3, CPU version, locally and simulates a SageMaker training job. \n",
    "When training starts, the TensorFlow container executes **train.py**, passing `hyperparameters` and `model_dir` as script arguments, executing the example as follows:\n",
    "```bash\n",
    "python -m train --num-epochs 1 --data_dir /opt/ml/input/data/training --model_dir /opt/ml/model\n",
    "```\n"
   ]
  },
  {
   "cell_type": "code",
   "execution_count": 9,
   "metadata": {
    "scrolled": true
   },
   "outputs": [
    {
     "name": "stdout",
     "output_type": "stream",
     "text": [
      "Creating tmpnkeyfy1i_algo-1-hvde6_1 ... \n",
      "\u001b[1BAttaching to tmpnkeyfy1i_algo-1-hvde6_12mdone\u001b[0m\n",
      "\u001b[36malgo-1-hvde6_1  |\u001b[0m 2021-01-19 11:09:52.402282: W tensorflow/core/profiler/internal/smprofiler_timeline.cc:425] Initializing the SageMaker Profiler.\n",
      "\u001b[36malgo-1-hvde6_1  |\u001b[0m 2021-01-19 11:09:52.402408: W tensorflow/core/profiler/internal/smprofiler_timeline.cc:106] SageMaker Profiler is not enabled. The timeline writer thread will not be started, future recorded events will be dropped.\n",
      "\u001b[36malgo-1-hvde6_1  |\u001b[0m 2021-01-19 11:09:52.421586: W tensorflow/core/profiler/internal/smprofiler_timeline.cc:425] Initializing the SageMaker Profiler.\n",
      "\u001b[36malgo-1-hvde6_1  |\u001b[0m 2021-01-19 11:09:53,746 sagemaker-training-toolkit INFO     Imported framework sagemaker_tensorflow_container.training\n",
      "\u001b[36malgo-1-hvde6_1  |\u001b[0m 2021-01-19 11:09:53,753 sagemaker-training-toolkit INFO     No GPUs detected (normal if no gpus installed)\n",
      "\u001b[36malgo-1-hvde6_1  |\u001b[0m 2021-01-19 11:09:53,941 sagemaker-training-toolkit INFO     Installing dependencies from requirements.txt:\n",
      "\u001b[36malgo-1-hvde6_1  |\u001b[0m /usr/local/bin/python3.7 -m pip install -r requirements.txt\n",
      "\u001b[36malgo-1-hvde6_1  |\u001b[0m Collecting deepctr[gpu]\n",
      "\u001b[36malgo-1-hvde6_1  |\u001b[0m   Downloading deepctr-0.8.3-py3-none-any.whl (114 kB)\n",
      "\u001b[K     |████████████████████████████████| 114 kB 18.5 MB/s eta 0:00:01\n",
      "\u001b[36malgo-1-hvde6_1  |\u001b[0m \u001b[?25hRequirement already satisfied: pandas in /usr/local/lib/python3.7/site-packages (from -r requirements.txt (line 2)) (1.0.3)\n",
      "\u001b[36malgo-1-hvde6_1  |\u001b[0m Requirement already satisfied: sklearn in /usr/local/lib/python3.7/site-packages (from -r requirements.txt (line 3)) (0.0)\n",
      "\u001b[36malgo-1-hvde6_1  |\u001b[0m Requirement already satisfied: h5py==2.10.0 in /usr/local/lib/python3.7/site-packages (from deepctr[gpu]->-r requirements.txt (line 1)) (2.10.0)\n",
      "\u001b[36malgo-1-hvde6_1  |\u001b[0m Requirement already satisfied: requests in /usr/local/lib/python3.7/site-packages (from deepctr[gpu]->-r requirements.txt (line 1)) (2.23.0)\n",
      "\u001b[36malgo-1-hvde6_1  |\u001b[0m Collecting tensorflow-gpu!=1.7.*,!=1.8.*,>=1.4.0; extra == \"gpu\"\n",
      "\u001b[36malgo-1-hvde6_1  |\u001b[0m   Downloading tensorflow_gpu-2.4.0-cp37-cp37m-manylinux2010_x86_64.whl (394.7 MB)\n"
     ]
    },
    {
     "name": "stderr",
     "output_type": "stream",
     "text": [
      "IOPub data rate exceeded.\n",
      "The notebook server will temporarily stop sending output\n",
      "to the client in order to avoid crashing it.\n",
      "To change this limit, set the config variable\n",
      "`--NotebookApp.iopub_data_rate_limit`.\n",
      "\n",
      "Current values:\n",
      "NotebookApp.iopub_data_rate_limit=1000000.0 (bytes/sec)\n",
      "NotebookApp.rate_limit_window=3.0 (secs)\n",
      "\n"
     ]
    },
    {
     "name": "stdout",
     "output_type": "stream",
     "text": [
      "\u001b[36malgo-1-hvde6_1  |\u001b[0m \u001b[?25hRequirement already satisfied: python-dateutil>=2.6.1 in /usr/local/lib/python3.7/site-packages (from pandas->-r requirements.txt (line 2)) (2.8.1)\n",
      "\u001b[36malgo-1-hvde6_1  |\u001b[0m Requirement already satisfied: numpy>=1.13.3 in /usr/local/lib/python3.7/site-packages (from pandas->-r requirements.txt (line 2)) (1.18.5)\n",
      "\u001b[36malgo-1-hvde6_1  |\u001b[0m Requirement already satisfied: pytz>=2017.2 in /usr/local/lib/python3.7/site-packages (from pandas->-r requirements.txt (line 2)) (2020.1)\n",
      "\u001b[36malgo-1-hvde6_1  |\u001b[0m Requirement already satisfied: scikit-learn in /usr/local/lib/python3.7/site-packages (from sklearn->-r requirements.txt (line 3)) (0.23.0)\n",
      "\u001b[36malgo-1-hvde6_1  |\u001b[0m Requirement already satisfied: six in /usr/local/lib/python3.7/site-packages (from h5py==2.10.0->deepctr[gpu]->-r requirements.txt (line 1)) (1.15.0)\n",
      "\u001b[36malgo-1-hvde6_1  |\u001b[0m Requirement already satisfied: chardet<4,>=3.0.2 in /usr/local/lib/python3.7/site-packages (from requests->deepctr[gpu]->-r requirements.txt (line 1)) (3.0.4)\n",
      "\u001b[36malgo-1-hvde6_1  |\u001b[0m Requirement already satisfied: urllib3!=1.25.0,!=1.25.1,<1.26,>=1.21.1 in /usr/local/lib/python3.7/site-packages (from requests->deepctr[gpu]->-r requirements.txt (line 1)) (1.25.10)\n",
      "\u001b[36malgo-1-hvde6_1  |\u001b[0m Requirement already satisfied: idna<3,>=2.5 in /usr/local/lib/python3.7/site-packages (from requests->deepctr[gpu]->-r requirements.txt (line 1)) (2.10)\n",
      "\u001b[36malgo-1-hvde6_1  |\u001b[0m Requirement already satisfied: certifi>=2017.4.17 in /usr/local/lib/python3.7/site-packages (from requests->deepctr[gpu]->-r requirements.txt (line 1)) (2020.6.20)\n",
      "\u001b[36malgo-1-hvde6_1  |\u001b[0m Requirement already satisfied: gast==0.3.3 in /usr/local/lib/python3.7/site-packages (from tensorflow-gpu!=1.7.*,!=1.8.*,>=1.4.0; extra == \"gpu\"->deepctr[gpu]->-r requirements.txt (line 1)) (0.3.3)\n",
      "\u001b[36malgo-1-hvde6_1  |\u001b[0m Requirement already satisfied: wrapt~=1.12.1 in /usr/local/lib/python3.7/site-packages (from tensorflow-gpu!=1.7.*,!=1.8.*,>=1.4.0; extra == \"gpu\"->deepctr[gpu]->-r requirements.txt (line 1)) (1.12.1)\n",
      "\u001b[36malgo-1-hvde6_1  |\u001b[0m Requirement already satisfied: opt-einsum~=3.3.0 in /usr/local/lib/python3.7/site-packages (from tensorflow-gpu!=1.7.*,!=1.8.*,>=1.4.0; extra == \"gpu\"->deepctr[gpu]->-r requirements.txt (line 1)) (3.3.0)\n",
      "\u001b[36malgo-1-hvde6_1  |\u001b[0m Requirement already satisfied: grpcio~=1.32.0 in /usr/local/lib/python3.7/site-packages (from tensorflow-gpu!=1.7.*,!=1.8.*,>=1.4.0; extra == \"gpu\"->deepctr[gpu]->-r requirements.txt (line 1)) (1.32.0)\n",
      "\u001b[36malgo-1-hvde6_1  |\u001b[0m Requirement already satisfied: google-pasta~=0.2 in /usr/local/lib/python3.7/site-packages (from tensorflow-gpu!=1.7.*,!=1.8.*,>=1.4.0; extra == \"gpu\"->deepctr[gpu]->-r requirements.txt (line 1)) (0.2.0)\n",
      "\u001b[36malgo-1-hvde6_1  |\u001b[0m Collecting tensorboard~=2.4\n",
      "\u001b[36malgo-1-hvde6_1  |\u001b[0m   Downloading tensorboard-2.4.1-py3-none-any.whl (10.6 MB)\n",
      "\u001b[K     |████████████████████████████████| 10.6 MB 81.3 MB/s eta 0:00:01\n",
      "\u001b[36malgo-1-hvde6_1  |\u001b[0m \u001b[?25hRequirement already satisfied: astunparse~=1.6.3 in /usr/local/lib/python3.7/site-packages (from tensorflow-gpu!=1.7.*,!=1.8.*,>=1.4.0; extra == \"gpu\"->deepctr[gpu]->-r requirements.txt (line 1)) (1.6.3)\n",
      "\u001b[36malgo-1-hvde6_1  |\u001b[0m Requirement already satisfied: wheel~=0.35 in /usr/local/lib/python3.7/site-packages (from tensorflow-gpu!=1.7.*,!=1.8.*,>=1.4.0; extra == \"gpu\"->deepctr[gpu]->-r requirements.txt (line 1)) (0.35.1)\n",
      "\u001b[36malgo-1-hvde6_1  |\u001b[0m Requirement already satisfied: keras-preprocessing~=1.1.2 in /usr/local/lib/python3.7/site-packages (from tensorflow-gpu!=1.7.*,!=1.8.*,>=1.4.0; extra == \"gpu\"->deepctr[gpu]->-r requirements.txt (line 1)) (1.1.2)\n",
      "\u001b[36malgo-1-hvde6_1  |\u001b[0m Requirement already satisfied: termcolor~=1.1.0 in /usr/local/lib/python3.7/site-packages (from tensorflow-gpu!=1.7.*,!=1.8.*,>=1.4.0; extra == \"gpu\"->deepctr[gpu]->-r requirements.txt (line 1)) (1.1.0)\n",
      "\u001b[36malgo-1-hvde6_1  |\u001b[0m Collecting typing-extensions~=3.7.4\n",
      "\u001b[36malgo-1-hvde6_1  |\u001b[0m   Downloading typing_extensions-3.7.4.3-py3-none-any.whl (22 kB)\n",
      "\u001b[36malgo-1-hvde6_1  |\u001b[0m Collecting tensorflow-estimator<2.5.0,>=2.4.0rc0\n",
      "\u001b[36malgo-1-hvde6_1  |\u001b[0m   Downloading tensorflow_estimator-2.4.0-py2.py3-none-any.whl (462 kB)\n",
      "\u001b[K     |████████████████████████████████| 462 kB 97.1 MB/s eta 0:00:01\n",
      "\u001b[36malgo-1-hvde6_1  |\u001b[0m \u001b[?25hCollecting flatbuffers~=1.12.0\n",
      "\u001b[36malgo-1-hvde6_1  |\u001b[0m   Downloading flatbuffers-1.12-py2.py3-none-any.whl (15 kB)\n",
      "\u001b[36malgo-1-hvde6_1  |\u001b[0m Requirement already satisfied: protobuf>=3.9.2 in /usr/local/lib/python3.7/site-packages (from tensorflow-gpu!=1.7.*,!=1.8.*,>=1.4.0; extra == \"gpu\"->deepctr[gpu]->-r requirements.txt (line 1)) (3.13.0)\n",
      "\u001b[36malgo-1-hvde6_1  |\u001b[0m Collecting absl-py~=0.10\n",
      "\u001b[36malgo-1-hvde6_1  |\u001b[0m   Downloading absl_py-0.11.0-py3-none-any.whl (127 kB)\n",
      "\u001b[K     |████████████████████████████████| 127 kB 81.6 MB/s eta 0:00:01\n",
      "\u001b[36malgo-1-hvde6_1  |\u001b[0m \u001b[?25hRequirement already satisfied: joblib>=0.11 in /usr/local/lib/python3.7/site-packages (from scikit-learn->sklearn->-r requirements.txt (line 3)) (0.16.0)\n",
      "\u001b[36malgo-1-hvde6_1  |\u001b[0m Requirement already satisfied: threadpoolctl>=2.0.0 in /usr/local/lib/python3.7/site-packages (from scikit-learn->sklearn->-r requirements.txt (line 3)) (2.1.0)\n",
      "\u001b[36malgo-1-hvde6_1  |\u001b[0m Requirement already satisfied: scipy>=0.19.1 in /usr/local/lib/python3.7/site-packages (from scikit-learn->sklearn->-r requirements.txt (line 3)) (1.4.1)\n",
      "\u001b[36malgo-1-hvde6_1  |\u001b[0m Requirement already satisfied: google-auth<2,>=1.6.3 in /usr/local/lib/python3.7/site-packages (from tensorboard~=2.4->tensorflow-gpu!=1.7.*,!=1.8.*,>=1.4.0; extra == \"gpu\"->deepctr[gpu]->-r requirements.txt (line 1)) (1.21.2)\n",
      "\u001b[36malgo-1-hvde6_1  |\u001b[0m Requirement already satisfied: markdown>=2.6.8 in /usr/local/lib/python3.7/site-packages (from tensorboard~=2.4->tensorflow-gpu!=1.7.*,!=1.8.*,>=1.4.0; extra == \"gpu\"->deepctr[gpu]->-r requirements.txt (line 1)) (3.2.2)\n",
      "\u001b[36malgo-1-hvde6_1  |\u001b[0m Requirement already satisfied: werkzeug>=0.11.15 in /usr/local/lib/python3.7/site-packages (from tensorboard~=2.4->tensorflow-gpu!=1.7.*,!=1.8.*,>=1.4.0; extra == \"gpu\"->deepctr[gpu]->-r requirements.txt (line 1)) (1.0.1)\n",
      "\u001b[36malgo-1-hvde6_1  |\u001b[0m Requirement already satisfied: tensorboard-plugin-wit>=1.6.0 in /usr/local/lib/python3.7/site-packages (from tensorboard~=2.4->tensorflow-gpu!=1.7.*,!=1.8.*,>=1.4.0; extra == \"gpu\"->deepctr[gpu]->-r requirements.txt (line 1)) (1.7.0)\n",
      "\u001b[36malgo-1-hvde6_1  |\u001b[0m Requirement already satisfied: google-auth-oauthlib<0.5,>=0.4.1 in /usr/local/lib/python3.7/site-packages (from tensorboard~=2.4->tensorflow-gpu!=1.7.*,!=1.8.*,>=1.4.0; extra == \"gpu\"->deepctr[gpu]->-r requirements.txt (line 1)) (0.4.1)\n",
      "\u001b[36malgo-1-hvde6_1  |\u001b[0m Requirement already satisfied: setuptools>=41.0.0 in /usr/local/lib/python3.7/site-packages (from tensorboard~=2.4->tensorflow-gpu!=1.7.*,!=1.8.*,>=1.4.0; extra == \"gpu\"->deepctr[gpu]->-r requirements.txt (line 1)) (50.3.0)\n",
      "\u001b[36malgo-1-hvde6_1  |\u001b[0m Requirement already satisfied: rsa<5,>=3.1.4; python_version >= \"3.5\" in /usr/local/lib/python3.7/site-packages (from google-auth<2,>=1.6.3->tensorboard~=2.4->tensorflow-gpu!=1.7.*,!=1.8.*,>=1.4.0; extra == \"gpu\"->deepctr[gpu]->-r requirements.txt (line 1)) (4.5)\n",
      "\u001b[36malgo-1-hvde6_1  |\u001b[0m Requirement already satisfied: cachetools<5.0,>=2.0.0 in /usr/local/lib/python3.7/site-packages (from google-auth<2,>=1.6.3->tensorboard~=2.4->tensorflow-gpu!=1.7.*,!=1.8.*,>=1.4.0; extra == \"gpu\"->deepctr[gpu]->-r requirements.txt (line 1)) (4.1.1)\n",
      "\u001b[36malgo-1-hvde6_1  |\u001b[0m Requirement already satisfied: pyasn1-modules>=0.2.1 in /usr/local/lib/python3.7/site-packages (from google-auth<2,>=1.6.3->tensorboard~=2.4->tensorflow-gpu!=1.7.*,!=1.8.*,>=1.4.0; extra == \"gpu\"->deepctr[gpu]->-r requirements.txt (line 1)) (0.2.8)\n",
      "\u001b[36malgo-1-hvde6_1  |\u001b[0m Requirement already satisfied: importlib-metadata; python_version < \"3.8\" in /usr/local/lib/python3.7/site-packages (from markdown>=2.6.8->tensorboard~=2.4->tensorflow-gpu!=1.7.*,!=1.8.*,>=1.4.0; extra == \"gpu\"->deepctr[gpu]->-r requirements.txt (line 1)) (1.7.0)\n",
      "\u001b[36malgo-1-hvde6_1  |\u001b[0m Requirement already satisfied: requests-oauthlib>=0.7.0 in /usr/local/lib/python3.7/site-packages (from google-auth-oauthlib<0.5,>=0.4.1->tensorboard~=2.4->tensorflow-gpu!=1.7.*,!=1.8.*,>=1.4.0; extra == \"gpu\"->deepctr[gpu]->-r requirements.txt (line 1)) (1.3.0)\n",
      "\u001b[36malgo-1-hvde6_1  |\u001b[0m Requirement already satisfied: pyasn1>=0.1.3 in /usr/local/lib/python3.7/site-packages (from rsa<5,>=3.1.4; python_version >= \"3.5\"->google-auth<2,>=1.6.3->tensorboard~=2.4->tensorflow-gpu!=1.7.*,!=1.8.*,>=1.4.0; extra == \"gpu\"->deepctr[gpu]->-r requirements.txt (line 1)) (0.4.8)\n",
      "\u001b[36malgo-1-hvde6_1  |\u001b[0m Requirement already satisfied: zipp>=0.5 in /usr/local/lib/python3.7/site-packages (from importlib-metadata; python_version < \"3.8\"->markdown>=2.6.8->tensorboard~=2.4->tensorflow-gpu!=1.7.*,!=1.8.*,>=1.4.0; extra == \"gpu\"->deepctr[gpu]->-r requirements.txt (line 1)) (3.1.0)\n",
      "\u001b[36malgo-1-hvde6_1  |\u001b[0m Requirement already satisfied: oauthlib>=3.0.0 in /usr/local/lib/python3.7/site-packages (from requests-oauthlib>=0.7.0->google-auth-oauthlib<0.5,>=0.4.1->tensorboard~=2.4->tensorflow-gpu!=1.7.*,!=1.8.*,>=1.4.0; extra == \"gpu\"->deepctr[gpu]->-r requirements.txt (line 1)) (3.1.0)\n",
      "\u001b[36malgo-1-hvde6_1  |\u001b[0m Installing collected packages: absl-py, tensorboard, typing-extensions, tensorflow-estimator, flatbuffers, tensorflow-gpu, deepctr\n",
      "\u001b[36malgo-1-hvde6_1  |\u001b[0m   Attempting uninstall: absl-py\n",
      "\u001b[36malgo-1-hvde6_1  |\u001b[0m     Found existing installation: absl-py 0.9.0\n",
      "\u001b[36malgo-1-hvde6_1  |\u001b[0m     Uninstalling absl-py-0.9.0:\n",
      "\u001b[36malgo-1-hvde6_1  |\u001b[0m       Successfully uninstalled absl-py-0.9.0\n",
      "\u001b[36malgo-1-hvde6_1  |\u001b[0m   Attempting uninstall: tensorboard\n",
      "\u001b[36malgo-1-hvde6_1  |\u001b[0m     Found existing installation: tensorboard 2.2.2\n",
      "\u001b[36malgo-1-hvde6_1  |\u001b[0m     Uninstalling tensorboard-2.2.2:\n",
      "\u001b[36malgo-1-hvde6_1  |\u001b[0m       Successfully uninstalled tensorboard-2.2.2\n",
      "\u001b[36malgo-1-hvde6_1  |\u001b[0m   Attempting uninstall: tensorflow-estimator\n",
      "\u001b[36malgo-1-hvde6_1  |\u001b[0m     Found existing installation: tensorflow-estimator 2.2.0\n",
      "\u001b[36malgo-1-hvde6_1  |\u001b[0m     Uninstalling tensorflow-estimator-2.2.0:\n",
      "\u001b[36malgo-1-hvde6_1  |\u001b[0m       Successfully uninstalled tensorflow-estimator-2.2.0\n",
      "\u001b[36malgo-1-hvde6_1  |\u001b[0m Successfully installed absl-py-0.11.0 deepctr-0.8.3 flatbuffers-1.12 tensorboard-2.4.1 tensorflow-estimator-2.4.0 tensorflow-gpu-2.4.0 typing-extensions-3.7.4.3\n",
      "\u001b[36malgo-1-hvde6_1  |\u001b[0m 2021-01-19 11:10:15,839 sagemaker-training-toolkit INFO     No GPUs detected (normal if no gpus installed)\n",
      "\u001b[36malgo-1-hvde6_1  |\u001b[0m 2021-01-19 11:10:15,854 sagemaker-training-toolkit INFO     No GPUs detected (normal if no gpus installed)\n",
      "\u001b[36malgo-1-hvde6_1  |\u001b[0m 2021-01-19 11:10:15,870 sagemaker-training-toolkit INFO     No GPUs detected (normal if no gpus installed)\n",
      "\u001b[36malgo-1-hvde6_1  |\u001b[0m 2021-01-19 11:10:15,879 sagemaker-training-toolkit INFO     Invoking user script\n",
      "\u001b[36malgo-1-hvde6_1  |\u001b[0m \n",
      "\u001b[36malgo-1-hvde6_1  |\u001b[0m Training Env:\n",
      "\u001b[36malgo-1-hvde6_1  |\u001b[0m \n",
      "\u001b[36malgo-1-hvde6_1  |\u001b[0m {\n",
      "\u001b[36malgo-1-hvde6_1  |\u001b[0m     \"additional_framework_parameters\": {},\n",
      "\u001b[36malgo-1-hvde6_1  |\u001b[0m     \"channel_input_dirs\": {\n",
      "\u001b[36malgo-1-hvde6_1  |\u001b[0m         \"training\": \"/opt/ml/input/data/training\"\n",
      "\u001b[36malgo-1-hvde6_1  |\u001b[0m     },\n",
      "\u001b[36malgo-1-hvde6_1  |\u001b[0m     \"current_host\": \"algo-1-hvde6\",\n",
      "\u001b[36malgo-1-hvde6_1  |\u001b[0m     \"framework_module\": \"sagemaker_tensorflow_container.training:main\",\n",
      "\u001b[36malgo-1-hvde6_1  |\u001b[0m     \"hosts\": [\n",
      "\u001b[36malgo-1-hvde6_1  |\u001b[0m         \"algo-1-hvde6\"\n",
      "\u001b[36malgo-1-hvde6_1  |\u001b[0m     ],\n",
      "\u001b[36malgo-1-hvde6_1  |\u001b[0m     \"hyperparameters\": {\n",
      "\u001b[36malgo-1-hvde6_1  |\u001b[0m         \"train_steps\": 10,\n",
      "\u001b[36malgo-1-hvde6_1  |\u001b[0m         \"model_name\": \"DeepFM\",\n",
      "\u001b[36malgo-1-hvde6_1  |\u001b[0m         \"model_dir\": \"/opt/ml/model\"\n",
      "\u001b[36malgo-1-hvde6_1  |\u001b[0m     },\n",
      "\u001b[36malgo-1-hvde6_1  |\u001b[0m     \"input_config_dir\": \"/opt/ml/input/config\",\n",
      "\u001b[36malgo-1-hvde6_1  |\u001b[0m     \"input_data_config\": {\n",
      "\u001b[36malgo-1-hvde6_1  |\u001b[0m         \"training\": {\n",
      "\u001b[36malgo-1-hvde6_1  |\u001b[0m             \"TrainingInputMode\": \"File\"\n",
      "\u001b[36malgo-1-hvde6_1  |\u001b[0m         }\n",
      "\u001b[36malgo-1-hvde6_1  |\u001b[0m     },\n",
      "\u001b[36malgo-1-hvde6_1  |\u001b[0m     \"input_dir\": \"/opt/ml/input\",\n",
      "\u001b[36malgo-1-hvde6_1  |\u001b[0m     \"is_master\": true,\n",
      "\u001b[36malgo-1-hvde6_1  |\u001b[0m     \"job_name\": \"tensorflow-training-2021-01-19-11-09-07-818\",\n",
      "\u001b[36malgo-1-hvde6_1  |\u001b[0m     \"log_level\": 20,\n",
      "\u001b[36malgo-1-hvde6_1  |\u001b[0m     \"master_hostname\": \"algo-1-hvde6\",\n",
      "\u001b[36malgo-1-hvde6_1  |\u001b[0m     \"model_dir\": \"/opt/ml/model\",\n",
      "\u001b[36malgo-1-hvde6_1  |\u001b[0m     \"module_dir\": \"s3://sagemaker-us-east-1-579019700964/tensorflow-training-2021-01-19-11-09-07-818/source/sourcedir.tar.gz\",\n",
      "\u001b[36malgo-1-hvde6_1  |\u001b[0m     \"module_name\": \"train_estimator\",\n",
      "\u001b[36malgo-1-hvde6_1  |\u001b[0m     \"network_interface_name\": \"eth0\",\n",
      "\u001b[36malgo-1-hvde6_1  |\u001b[0m     \"num_cpus\": 8,\n",
      "\u001b[36malgo-1-hvde6_1  |\u001b[0m     \"num_gpus\": 0,\n",
      "\u001b[36malgo-1-hvde6_1  |\u001b[0m     \"output_data_dir\": \"/opt/ml/output/data\",\n",
      "\u001b[36malgo-1-hvde6_1  |\u001b[0m     \"output_dir\": \"/opt/ml/output\",\n",
      "\u001b[36malgo-1-hvde6_1  |\u001b[0m     \"output_intermediate_dir\": \"/opt/ml/output/intermediate\",\n",
      "\u001b[36malgo-1-hvde6_1  |\u001b[0m     \"resource_config\": {\n",
      "\u001b[36malgo-1-hvde6_1  |\u001b[0m         \"current_host\": \"algo-1-hvde6\",\n",
      "\u001b[36malgo-1-hvde6_1  |\u001b[0m         \"hosts\": [\n",
      "\u001b[36malgo-1-hvde6_1  |\u001b[0m             \"algo-1-hvde6\"\n",
      "\u001b[36malgo-1-hvde6_1  |\u001b[0m         ]\n",
      "\u001b[36malgo-1-hvde6_1  |\u001b[0m     },\n",
      "\u001b[36malgo-1-hvde6_1  |\u001b[0m     \"user_entry_point\": \"train_estimator.py\"\n",
      "\u001b[36malgo-1-hvde6_1  |\u001b[0m }\n",
      "\u001b[36malgo-1-hvde6_1  |\u001b[0m \n",
      "\u001b[36malgo-1-hvde6_1  |\u001b[0m Environment variables:\n",
      "\u001b[36malgo-1-hvde6_1  |\u001b[0m \n",
      "\u001b[36malgo-1-hvde6_1  |\u001b[0m SM_HOSTS=[\"algo-1-hvde6\"]\n",
      "\u001b[36malgo-1-hvde6_1  |\u001b[0m SM_NETWORK_INTERFACE_NAME=eth0\n",
      "\u001b[36malgo-1-hvde6_1  |\u001b[0m SM_HPS={\"model_dir\":\"/opt/ml/model\",\"model_name\":\"DeepFM\",\"train_steps\":10}\n",
      "\u001b[36malgo-1-hvde6_1  |\u001b[0m SM_USER_ENTRY_POINT=train_estimator.py\n",
      "\u001b[36malgo-1-hvde6_1  |\u001b[0m SM_FRAMEWORK_PARAMS={}\n",
      "\u001b[36malgo-1-hvde6_1  |\u001b[0m SM_RESOURCE_CONFIG={\"current_host\":\"algo-1-hvde6\",\"hosts\":[\"algo-1-hvde6\"]}\n",
      "\u001b[36malgo-1-hvde6_1  |\u001b[0m SM_INPUT_DATA_CONFIG={\"training\":{\"TrainingInputMode\":\"File\"}}\n",
      "\u001b[36malgo-1-hvde6_1  |\u001b[0m SM_OUTPUT_DATA_DIR=/opt/ml/output/data\n",
      "\u001b[36malgo-1-hvde6_1  |\u001b[0m SM_CHANNELS=[\"training\"]\n",
      "\u001b[36malgo-1-hvde6_1  |\u001b[0m SM_CURRENT_HOST=algo-1-hvde6\n",
      "\u001b[36malgo-1-hvde6_1  |\u001b[0m SM_MODULE_NAME=train_estimator\n",
      "\u001b[36malgo-1-hvde6_1  |\u001b[0m SM_LOG_LEVEL=20\n",
      "\u001b[36malgo-1-hvde6_1  |\u001b[0m SM_FRAMEWORK_MODULE=sagemaker_tensorflow_container.training:main\n",
      "\u001b[36malgo-1-hvde6_1  |\u001b[0m SM_INPUT_DIR=/opt/ml/input\n",
      "\u001b[36malgo-1-hvde6_1  |\u001b[0m SM_INPUT_CONFIG_DIR=/opt/ml/input/config\n",
      "\u001b[36malgo-1-hvde6_1  |\u001b[0m SM_OUTPUT_DIR=/opt/ml/output\n",
      "\u001b[36malgo-1-hvde6_1  |\u001b[0m SM_NUM_CPUS=8\n",
      "\u001b[36malgo-1-hvde6_1  |\u001b[0m SM_NUM_GPUS=0\n",
      "\u001b[36malgo-1-hvde6_1  |\u001b[0m SM_MODEL_DIR=/opt/ml/model\n",
      "\u001b[36malgo-1-hvde6_1  |\u001b[0m SM_MODULE_DIR=s3://sagemaker-us-east-1-579019700964/tensorflow-training-2021-01-19-11-09-07-818/source/sourcedir.tar.gz\n",
      "\u001b[36malgo-1-hvde6_1  |\u001b[0m SM_TRAINING_ENV={\"additional_framework_parameters\":{},\"channel_input_dirs\":{\"training\":\"/opt/ml/input/data/training\"},\"current_host\":\"algo-1-hvde6\",\"framework_module\":\"sagemaker_tensorflow_container.training:main\",\"hosts\":[\"algo-1-hvde6\"],\"hyperparameters\":{\"model_dir\":\"/opt/ml/model\",\"model_name\":\"DeepFM\",\"train_steps\":10},\"input_config_dir\":\"/opt/ml/input/config\",\"input_data_config\":{\"training\":{\"TrainingInputMode\":\"File\"}},\"input_dir\":\"/opt/ml/input\",\"is_master\":true,\"job_name\":\"tensorflow-training-2021-01-19-11-09-07-818\",\"log_level\":20,\"master_hostname\":\"algo-1-hvde6\",\"model_dir\":\"/opt/ml/model\",\"module_dir\":\"s3://sagemaker-us-east-1-579019700964/tensorflow-training-2021-01-19-11-09-07-818/source/sourcedir.tar.gz\",\"module_name\":\"train_estimator\",\"network_interface_name\":\"eth0\",\"num_cpus\":8,\"num_gpus\":0,\"output_data_dir\":\"/opt/ml/output/data\",\"output_dir\":\"/opt/ml/output\",\"output_intermediate_dir\":\"/opt/ml/output/intermediate\",\"resource_config\":{\"current_host\":\"algo-1-hvde6\",\"hosts\":[\"algo-1-hvde6\"]},\"user_entry_point\":\"train_estimator.py\"}\n",
      "\u001b[36malgo-1-hvde6_1  |\u001b[0m SM_USER_ARGS=[\"--model_dir\",\"/opt/ml/model\",\"--model_name\",\"DeepFM\",\"--train_steps\",\"10\"]\n",
      "\u001b[36malgo-1-hvde6_1  |\u001b[0m SM_OUTPUT_INTERMEDIATE_DIR=/opt/ml/output/intermediate\n",
      "\u001b[36malgo-1-hvde6_1  |\u001b[0m SM_CHANNEL_TRAINING=/opt/ml/input/data/training\n",
      "\u001b[36malgo-1-hvde6_1  |\u001b[0m SM_HP_TRAIN_STEPS=10\n",
      "\u001b[36malgo-1-hvde6_1  |\u001b[0m SM_HP_MODEL_NAME=DeepFM\n",
      "\u001b[36malgo-1-hvde6_1  |\u001b[0m SM_HP_MODEL_DIR=/opt/ml/model\n",
      "\u001b[36malgo-1-hvde6_1  |\u001b[0m PYTHONPATH=/opt/ml/code:/usr/local/bin:/usr/local/lib/python37.zip:/usr/local/lib/python3.7:/usr/local/lib/python3.7/lib-dynload:/usr/local/lib/python3.7/site-packages\n",
      "\u001b[36malgo-1-hvde6_1  |\u001b[0m \n",
      "\u001b[36malgo-1-hvde6_1  |\u001b[0m Invoking script with the following command:\n",
      "\u001b[36malgo-1-hvde6_1  |\u001b[0m \n",
      "\u001b[36malgo-1-hvde6_1  |\u001b[0m /usr/local/bin/python3.7 train_estimator.py --model_dir /opt/ml/model --model_name DeepFM --train_steps 10\n",
      "\u001b[36malgo-1-hvde6_1  |\u001b[0m \n",
      "\u001b[36malgo-1-hvde6_1  |\u001b[0m \n",
      "\u001b[36malgo-1-hvde6_1  |\u001b[0m {'fm_group': ['default_group'], 'dnn_hidden_units': (128, 128), 'cross_num': 2, 'cross_parameterization': 'vector', 'l2_reg_cross': 1e-05, 'l2_reg_linear': 1e-05, 'l2_reg_embedding': 1e-05, 'l2_reg_dnn': 0, 'seed': 1024, 'dnn_dropout': 0, 'dnn_activation': 'relu', 'dnn_use_bn': False, 'low_rank': 32, 'num_experts': 4}\n",
      "\u001b[36malgo-1-hvde6_1  |\u001b[0m test LogLoss inf\n",
      "\u001b[36malgo-1-hvde6_1  |\u001b[0m test AUC 0.4695\n",
      "\u001b[36malgo-1-hvde6_1  |\u001b[0m 2021-01-19 11:10:35,259 sagemaker-training-toolkit INFO     Reporting training SUCCESS\n",
      "\u001b[36mtmpnkeyfy1i_algo-1-hvde6_1 exited with code 0\n",
      "\u001b[0mAborting on container exit...\n",
      "===== Job Complete =====\n"
     ]
    }
   ],
   "source": [
    "inputs = {'training': f'file:///home/ec2-user/SageMaker/deepctr_sagemaker/data/'}\n",
    "\n",
    "estimator.fit(inputs)"
   ]
  },
  {
   "cell_type": "markdown",
   "metadata": {},
   "source": [
    "Let's explain the values of `--data_dir` and `--model_dir` with more details:\n",
    "\n",
    "- **/opt/ml/input/data/training** is the directory inside the container where the training data is downloaded. The data is downloaded to this folder because `training` is the channel name defined in ```estimator.fit({'training': inputs})```. See [training data](https://docs.aws.amazon.com/sagemaker/latest/dg/your-algorithms-training-algo.html#your-algorithms-training-algo-running-container-trainingdata) for more information. \n",
    "\n",
    "- **/opt/ml/model** use this directory to save models, checkpoints, or any other data. Any data saved in this folder is saved in the S3 bucket defined for training. See [model data](https://docs.aws.amazon.com/sagemaker/latest/dg/your-algorithms-training-algo.html#your-algorithms-training-algo-envvariables) for more information.\n",
    "\n",
    "### Reading additional information from the container\n",
    "\n",
    "Often, a user script needs additional information from the container that is not available in ```hyperparameters```.\n",
    "SageMaker containers write this information as **environment variables** that are available inside the script.\n",
    "\n",
    "For example, the example above can read information about the `training` channel provided in the training job request by adding the environment variable `SM_CHANNEL_TRAINING` as the default value for the `--data_dir` argument:\n",
    "\n",
    "```python\n",
    "if __name__ == '__main__':\n",
    "  parser = argparse.ArgumentParser()\n",
    "  # reads input channels training and testing from the environment variables\n",
    "  parser.add_argument('--data_dir', type=str, default=os.environ['SM_CHANNEL_TRAINING'])\n",
    "```\n",
    "\n",
    "Script mode displays the list of available environment variables in the training logs. You can find the [entire list here](https://github.com/aws/sagemaker-containers/blob/master/README.rst#list-of-provided-environment-variables-by-sagemaker-containers)."
   ]
  },
  {
   "cell_type": "markdown",
   "metadata": {},
   "source": [
    "# Training in SageMaker"
   ]
  },
  {
   "cell_type": "markdown",
   "metadata": {},
   "source": [
    "After you test the training job locally, upload the dataset to an S3 bucket so SageMaker can access the data during training:"
   ]
  },
  {
   "cell_type": "code",
   "execution_count": 10,
   "metadata": {},
   "outputs": [
    {
     "name": "stdout",
     "output_type": "stream",
     "text": [
      "s3://sagemaker-us-east-1-579019700964/DEMO-tensorflow-deepctr\n"
     ]
    }
   ],
   "source": [
    "import sagemaker\n",
    "\n",
    "inputs = sagemaker.Session().upload_data(path='/home/ec2-user/SageMaker/deepctr_sagemaker/data', key_prefix='DEMO-tensorflow-deepctr')\n",
    "print(inputs)"
   ]
  },
  {
   "cell_type": "markdown",
   "metadata": {},
   "source": [
    "The returned variable inputs above is a string with a S3 location which SageMaker Tranining has permissions\n",
    "to read data from."
   ]
  },
  {
   "cell_type": "markdown",
   "metadata": {},
   "source": [
    "To train in SageMaker:\n",
    "- change the estimator argument `train_instance_type` to any SageMaker ml instance available for training.\n",
    "- set the `training` channel to a S3 location."
   ]
  },
  {
   "cell_type": "code",
   "execution_count": 11,
   "metadata": {
    "scrolled": true
   },
   "outputs": [
    {
     "name": "stderr",
     "output_type": "stream",
     "text": [
      "train_instance_type has been renamed in sagemaker>=2.\n",
      "See: https://sagemaker.readthedocs.io/en/stable/v2.html for details.\n",
      "train_instance_count has been renamed in sagemaker>=2.\n",
      "See: https://sagemaker.readthedocs.io/en/stable/v2.html for details.\n",
      "train_instance_type has been renamed in sagemaker>=2.\n",
      "See: https://sagemaker.readthedocs.io/en/stable/v2.html for details.\n"
     ]
    },
    {
     "name": "stdout",
     "output_type": "stream",
     "text": [
      "2021-01-19 11:10:36 Starting - Starting the training job...\n",
      "2021-01-19 11:11:00 Starting - Launching requested ML instancesProfilerReport-1611054636: InProgress\n",
      "......\n",
      "2021-01-19 11:12:02 Starting - Preparing the instances for training.........\n",
      "2021-01-19 11:13:23 Downloading - Downloading input data\n",
      "2021-01-19 11:13:23 Training - Downloading the training image.........\n",
      "2021-01-19 11:15:05 Training - Training image download completed. Training in progress..\u001b[34m2021-01-19 11:15:03,455 sagemaker-training-toolkit INFO     Imported framework sagemaker_tensorflow_container.training\u001b[0m\n",
      "\u001b[34m2021-01-19 11:15:03,893 sagemaker-training-toolkit INFO     Installing dependencies from requirements.txt:\u001b[0m\n",
      "\u001b[34m/usr/local/bin/python3.7 -m pip install -r requirements.txt\u001b[0m\n",
      "\u001b[34mCollecting deepctr[gpu]\n",
      "  Downloading deepctr-0.8.3-py3-none-any.whl (114 kB)\u001b[0m\n",
      "\u001b[34mRequirement already satisfied: pandas in /usr/local/lib/python3.7/site-packages (from -r requirements.txt (line 2)) (1.0.3)\u001b[0m\n",
      "\u001b[34mRequirement already satisfied: sklearn in /usr/local/lib/python3.7/site-packages (from -r requirements.txt (line 3)) (0.0)\u001b[0m\n",
      "\u001b[34mRequirement already satisfied: h5py==2.10.0 in /usr/local/lib/python3.7/site-packages (from deepctr[gpu]->-r requirements.txt (line 1)) (2.10.0)\u001b[0m\n",
      "\u001b[34mRequirement already satisfied: requests in /usr/local/lib/python3.7/site-packages (from deepctr[gpu]->-r requirements.txt (line 1)) (2.23.0)\u001b[0m\n",
      "\u001b[34mRequirement already satisfied: tensorflow-gpu!=1.7.*,!=1.8.*,>=1.4.0; extra == \"gpu\" in /usr/local/lib/python3.7/site-packages (from deepctr[gpu]->-r requirements.txt (line 1)) (2.2.0)\u001b[0m\n",
      "\u001b[34mRequirement already satisfied: python-dateutil>=2.6.1 in /usr/local/lib/python3.7/site-packages (from pandas->-r requirements.txt (line 2)) (2.8.1)\u001b[0m\n",
      "\u001b[34mRequirement already satisfied: pytz>=2017.2 in /usr/local/lib/python3.7/site-packages (from pandas->-r requirements.txt (line 2)) (2020.1)\u001b[0m\n",
      "\u001b[34mRequirement already satisfied: numpy>=1.13.3 in /usr/local/lib/python3.7/site-packages (from pandas->-r requirements.txt (line 2)) (1.19.1)\u001b[0m\n",
      "\u001b[34mRequirement already satisfied: scikit-learn in /usr/local/lib/python3.7/site-packages (from sklearn->-r requirements.txt (line 3)) (0.23.0)\u001b[0m\n",
      "\u001b[34mRequirement already satisfied: six in /usr/local/lib/python3.7/site-packages (from h5py==2.10.0->deepctr[gpu]->-r requirements.txt (line 1)) (1.15.0)\u001b[0m\n",
      "\u001b[34mRequirement already satisfied: chardet<4,>=3.0.2 in /usr/local/lib/python3.7/site-packages (from requests->deepctr[gpu]->-r requirements.txt (line 1)) (3.0.4)\u001b[0m\n",
      "\u001b[34mRequirement already satisfied: urllib3!=1.25.0,!=1.25.1,<1.26,>=1.21.1 in /usr/local/lib/python3.7/site-packages (from requests->deepctr[gpu]->-r requirements.txt (line 1)) (1.25.10)\u001b[0m\n",
      "\u001b[34mRequirement already satisfied: idna<3,>=2.5 in /usr/local/lib/python3.7/site-packages (from requests->deepctr[gpu]->-r requirements.txt (line 1)) (2.10)\u001b[0m\n",
      "\u001b[34mRequirement already satisfied: certifi>=2017.4.17 in /usr/local/lib/python3.7/site-packages (from requests->deepctr[gpu]->-r requirements.txt (line 1)) (2020.6.20)\u001b[0m\n",
      "\u001b[34mRequirement already satisfied: wheel>=0.26; python_version >= \"3\" in /usr/local/lib/python3.7/site-packages (from tensorflow-gpu!=1.7.*,!=1.8.*,>=1.4.0; extra == \"gpu\"->deepctr[gpu]->-r requirements.txt (line 1)) (0.35.1)\u001b[0m\n",
      "\u001b[34mRequirement already satisfied: astunparse==1.6.3 in /usr/local/lib/python3.7/site-packages (from tensorflow-gpu!=1.7.*,!=1.8.*,>=1.4.0; extra == \"gpu\"->deepctr[gpu]->-r requirements.txt (line 1)) (1.6.3)\u001b[0m\n",
      "\u001b[34mRequirement already satisfied: opt-einsum>=2.3.2 in /usr/local/lib/python3.7/site-packages (from tensorflow-gpu!=1.7.*,!=1.8.*,>=1.4.0; extra == \"gpu\"->deepctr[gpu]->-r requirements.txt (line 1)) (3.3.0)\u001b[0m\n",
      "\u001b[34mRequirement already satisfied: protobuf>=3.8.0 in /usr/local/lib/python3.7/site-packages (from tensorflow-gpu!=1.7.*,!=1.8.*,>=1.4.0; extra == \"gpu\"->deepctr[gpu]->-r requirements.txt (line 1)) (3.13.0)\u001b[0m\n",
      "\u001b[34mRequirement already satisfied: tensorboard<2.3.0,>=2.2.0 in /usr/local/lib/python3.7/site-packages (from tensorflow-gpu!=1.7.*,!=1.8.*,>=1.4.0; extra == \"gpu\"->deepctr[gpu]->-r requirements.txt (line 1)) (2.2.2)\u001b[0m\n",
      "\u001b[34mRequirement already satisfied: tensorflow-estimator<2.3.0,>=2.2.0 in /usr/local/lib/python3.7/site-packages (from tensorflow-gpu!=1.7.*,!=1.8.*,>=1.4.0; extra == \"gpu\"->deepctr[gpu]->-r requirements.txt (line 1)) (2.2.0)\u001b[0m\n",
      "\u001b[34mRequirement already satisfied: grpcio>=1.8.6 in /usr/local/lib/python3.7/site-packages (from tensorflow-gpu!=1.7.*,!=1.8.*,>=1.4.0; extra == \"gpu\"->deepctr[gpu]->-r requirements.txt (line 1)) (1.31.0)\u001b[0m\n",
      "\u001b[34mRequirement already satisfied: scipy==1.4.1; python_version >= \"3\" in /usr/local/lib/python3.7/site-packages (from tensorflow-gpu!=1.7.*,!=1.8.*,>=1.4.0; extra == \"gpu\"->deepctr[gpu]->-r requirements.txt (line 1)) (1.4.1)\u001b[0m\n",
      "\u001b[34mRequirement already satisfied: google-pasta>=0.1.8 in /usr/local/lib/python3.7/site-packages (from tensorflow-gpu!=1.7.*,!=1.8.*,>=1.4.0; extra == \"gpu\"->deepctr[gpu]->-r requirements.txt (line 1)) (0.2.0)\u001b[0m\n",
      "\u001b[34mRequirement already satisfied: keras-preprocessing>=1.1.0 in /usr/local/lib/python3.7/site-packages (from tensorflow-gpu!=1.7.*,!=1.8.*,>=1.4.0; extra == \"gpu\"->deepctr[gpu]->-r requirements.txt (line 1)) (1.1.2)\u001b[0m\n",
      "\u001b[34mRequirement already satisfied: gast==0.3.3 in /usr/local/lib/python3.7/site-packages (from tensorflow-gpu!=1.7.*,!=1.8.*,>=1.4.0; extra == \"gpu\"->deepctr[gpu]->-r requirements.txt (line 1)) (0.3.3)\u001b[0m\n",
      "\u001b[34mRequirement already satisfied: termcolor>=1.1.0 in /usr/local/lib/python3.7/site-packages (from tensorflow-gpu!=1.7.*,!=1.8.*,>=1.4.0; extra == \"gpu\"->deepctr[gpu]->-r requirements.txt (line 1)) (1.1.0)\u001b[0m\n",
      "\u001b[34mRequirement already satisfied: absl-py>=0.7.0 in /usr/local/lib/python3.7/site-packages (from tensorflow-gpu!=1.7.*,!=1.8.*,>=1.4.0; extra == \"gpu\"->deepctr[gpu]->-r requirements.txt (line 1)) (0.10.0)\u001b[0m\n",
      "\u001b[34mRequirement already satisfied: wrapt>=1.11.1 in /usr/local/lib/python3.7/site-packages (from tensorflow-gpu!=1.7.*,!=1.8.*,>=1.4.0; extra == \"gpu\"->deepctr[gpu]->-r requirements.txt (line 1)) (1.12.1)\u001b[0m\n",
      "\u001b[34mRequirement already satisfied: threadpoolctl>=2.0.0 in /usr/local/lib/python3.7/site-packages (from scikit-learn->sklearn->-r requirements.txt (line 3)) (2.1.0)\u001b[0m\n",
      "\u001b[34mRequirement already satisfied: joblib>=0.11 in /usr/local/lib/python3.7/site-packages (from scikit-learn->sklearn->-r requirements.txt (line 3)) (0.16.0)\u001b[0m\n",
      "\u001b[34mRequirement already satisfied: setuptools in /usr/local/lib/python3.7/site-packages (from protobuf>=3.8.0->tensorflow-gpu!=1.7.*,!=1.8.*,>=1.4.0; extra == \"gpu\"->deepctr[gpu]->-r requirements.txt (line 1)) (50.1.0)\u001b[0m\n",
      "\u001b[34mRequirement already satisfied: tensorboard-plugin-wit>=1.6.0 in /usr/local/lib/python3.7/site-packages (from tensorboard<2.3.0,>=2.2.0->tensorflow-gpu!=1.7.*,!=1.8.*,>=1.4.0; extra == \"gpu\"->deepctr[gpu]->-r requirements.txt (line 1)) (1.7.0)\u001b[0m\n",
      "\u001b[34mRequirement already satisfied: markdown>=2.6.8 in /usr/local/lib/python3.7/site-packages (from tensorboard<2.3.0,>=2.2.0->tensorflow-gpu!=1.7.*,!=1.8.*,>=1.4.0; extra == \"gpu\"->deepctr[gpu]->-r requirements.txt (line 1)) (3.2.2)\u001b[0m\n",
      "\u001b[34mRequirement already satisfied: google-auth<2,>=1.6.3 in /usr/local/lib/python3.7/site-packages (from tensorboard<2.3.0,>=2.2.0->tensorflow-gpu!=1.7.*,!=1.8.*,>=1.4.0; extra == \"gpu\"->deepctr[gpu]->-r requirements.txt (line 1)) (1.21.0)\u001b[0m\n",
      "\u001b[34mRequirement already satisfied: werkzeug>=0.11.15 in /usr/local/lib/python3.7/site-packages (from tensorboard<2.3.0,>=2.2.0->tensorflow-gpu!=1.7.*,!=1.8.*,>=1.4.0; extra == \"gpu\"->deepctr[gpu]->-r requirements.txt (line 1)) (1.0.1)\u001b[0m\n",
      "\u001b[34mRequirement already satisfied: google-auth-oauthlib<0.5,>=0.4.1 in /usr/local/lib/python3.7/site-packages (from tensorboard<2.3.0,>=2.2.0->tensorflow-gpu!=1.7.*,!=1.8.*,>=1.4.0; extra == \"gpu\"->deepctr[gpu]->-r requirements.txt (line 1)) (0.4.1)\u001b[0m\n",
      "\u001b[34mRequirement already satisfied: importlib-metadata; python_version < \"3.8\" in /usr/local/lib/python3.7/site-packages (from markdown>=2.6.8->tensorboard<2.3.0,>=2.2.0->tensorflow-gpu!=1.7.*,!=1.8.*,>=1.4.0; extra == \"gpu\"->deepctr[gpu]->-r requirements.txt (line 1)) (1.7.0)\u001b[0m\n",
      "\u001b[34mRequirement already satisfied: pyasn1-modules>=0.2.1 in /usr/local/lib/python3.7/site-packages (from google-auth<2,>=1.6.3->tensorboard<2.3.0,>=2.2.0->tensorflow-gpu!=1.7.*,!=1.8.*,>=1.4.0; extra == \"gpu\"->deepctr[gpu]->-r requirements.txt (line 1)) (0.2.8)\u001b[0m\n",
      "\u001b[34mRequirement already satisfied: cachetools<5.0,>=2.0.0 in /usr/local/lib/python3.7/site-packages (from google-auth<2,>=1.6.3->tensorboard<2.3.0,>=2.2.0->tensorflow-gpu!=1.7.*,!=1.8.*,>=1.4.0; extra == \"gpu\"->deepctr[gpu]->-r requirements.txt (line 1)) (4.1.1)\u001b[0m\n",
      "\u001b[34mRequirement already satisfied: rsa<5,>=3.1.4; python_version >= \"3.5\" in /usr/local/lib/python3.7/site-packages (from google-auth<2,>=1.6.3->tensorboard<2.3.0,>=2.2.0->tensorflow-gpu!=1.7.*,!=1.8.*,>=1.4.0; extra == \"gpu\"->deepctr[gpu]->-r requirements.txt (line 1)) (4.5)\u001b[0m\n",
      "\u001b[34mRequirement already satisfied: requests-oauthlib>=0.7.0 in /usr/local/lib/python3.7/site-packages (from google-auth-oauthlib<0.5,>=0.4.1->tensorboard<2.3.0,>=2.2.0->tensorflow-gpu!=1.7.*,!=1.8.*,>=1.4.0; extra == \"gpu\"->deepctr[gpu]->-r requirements.txt (line 1)) (1.3.0)\u001b[0m\n",
      "\u001b[34mRequirement already satisfied: zipp>=0.5 in /usr/local/lib/python3.7/site-packages (from importlib-metadata; python_version < \"3.8\"->markdown>=2.6.8->tensorboard<2.3.0,>=2.2.0->tensorflow-gpu!=1.7.*,!=1.8.*,>=1.4.0; extra == \"gpu\"->deepctr[gpu]->-r requirements.txt (line 1)) (3.1.0)\u001b[0m\n",
      "\u001b[34mRequirement already satisfied: pyasn1<0.5.0,>=0.4.6 in /usr/local/lib/python3.7/site-packages (from pyasn1-modules>=0.2.1->google-auth<2,>=1.6.3->tensorboard<2.3.0,>=2.2.0->tensorflow-gpu!=1.7.*,!=1.8.*,>=1.4.0; extra == \"gpu\"->deepctr[gpu]->-r requirements.txt (line 1)) (0.4.8)\u001b[0m\n",
      "\u001b[34mRequirement already satisfied: oauthlib>=3.0.0 in /usr/local/lib/python3.7/site-packages (from requests-oauthlib>=0.7.0->google-auth-oauthlib<0.5,>=0.4.1->tensorboard<2.3.0,>=2.2.0->tensorflow-gpu!=1.7.*,!=1.8.*,>=1.4.0; extra == \"gpu\"->deepctr[gpu]->-r requirements.txt (line 1)) (3.1.0)\u001b[0m\n",
      "\u001b[34mInstalling collected packages: deepctr\u001b[0m\n",
      "\u001b[34mSuccessfully installed deepctr-0.8.3\u001b[0m\n",
      "\u001b[34m2021-01-19 11:15:05,644 sagemaker-training-toolkit INFO     Invoking user script\n",
      "\u001b[0m\n",
      "\u001b[34mTraining Env:\n",
      "\u001b[0m\n",
      "\u001b[34m{\n",
      "    \"additional_framework_parameters\": {},\n",
      "    \"channel_input_dirs\": {\n",
      "        \"training\": \"/opt/ml/input/data/training\"\n",
      "    },\n",
      "    \"current_host\": \"algo-1\",\n",
      "    \"framework_module\": \"sagemaker_tensorflow_container.training:main\",\n",
      "    \"hosts\": [\n",
      "        \"algo-1\"\n",
      "    ],\n",
      "    \"hyperparameters\": {\n",
      "        \"train_steps\": 10,\n",
      "        \"model_name\": \"DeepFM\",\n",
      "        \"model_dir\": \"/opt/ml/model\"\n",
      "    },\n",
      "    \"input_config_dir\": \"/opt/ml/input/config\",\n",
      "    \"input_data_config\": {\n",
      "        \"training\": {\n",
      "            \"TrainingInputMode\": \"File\",\n",
      "            \"S3DistributionType\": \"FullyReplicated\",\n",
      "            \"RecordWrapperType\": \"None\"\n",
      "        }\n",
      "    },\n",
      "    \"input_dir\": \"/opt/ml/input\",\n",
      "    \"is_master\": true,\n",
      "    \"job_name\": \"tensorflow-training-2021-01-19-11-10-36-328\",\n",
      "    \"log_level\": 20,\n",
      "    \"master_hostname\": \"algo-1\",\n",
      "    \"model_dir\": \"/opt/ml/model\",\n",
      "    \"module_dir\": \"s3://sagemaker-us-east-1-579019700964/tensorflow-training-2021-01-19-11-10-36-328/source/sourcedir.tar.gz\",\n",
      "    \"module_name\": \"train_estimator\",\n",
      "    \"network_interface_name\": \"eth0\",\n",
      "    \"num_cpus\": 8,\n",
      "    \"num_gpus\": 1,\n",
      "    \"output_data_dir\": \"/opt/ml/output/data\",\n",
      "    \"output_dir\": \"/opt/ml/output\",\n",
      "    \"output_intermediate_dir\": \"/opt/ml/output/intermediate\",\n",
      "    \"resource_config\": {\n",
      "        \"current_host\": \"algo-1\",\n",
      "        \"hosts\": [\n",
      "            \"algo-1\"\n",
      "        ],\n",
      "        \"network_interface_name\": \"eth0\"\n",
      "    },\n",
      "    \"user_entry_point\": \"train_estimator.py\"\u001b[0m\n",
      "\u001b[34m}\n",
      "\u001b[0m\n",
      "\u001b[34mEnvironment variables:\n",
      "\u001b[0m\n",
      "\u001b[34mSM_HOSTS=[\"algo-1\"]\u001b[0m\n",
      "\u001b[34mSM_NETWORK_INTERFACE_NAME=eth0\u001b[0m\n",
      "\u001b[34mSM_HPS={\"model_dir\":\"/opt/ml/model\",\"model_name\":\"DeepFM\",\"train_steps\":10}\u001b[0m\n",
      "\u001b[34mSM_USER_ENTRY_POINT=train_estimator.py\u001b[0m\n",
      "\u001b[34mSM_FRAMEWORK_PARAMS={}\u001b[0m\n",
      "\u001b[34mSM_RESOURCE_CONFIG={\"current_host\":\"algo-1\",\"hosts\":[\"algo-1\"],\"network_interface_name\":\"eth0\"}\u001b[0m\n",
      "\u001b[34mSM_INPUT_DATA_CONFIG={\"training\":{\"RecordWrapperType\":\"None\",\"S3DistributionType\":\"FullyReplicated\",\"TrainingInputMode\":\"File\"}}\u001b[0m\n",
      "\u001b[34mSM_OUTPUT_DATA_DIR=/opt/ml/output/data\u001b[0m\n",
      "\u001b[34mSM_CHANNELS=[\"training\"]\u001b[0m\n",
      "\u001b[34mSM_CURRENT_HOST=algo-1\u001b[0m\n",
      "\u001b[34mSM_MODULE_NAME=train_estimator\u001b[0m\n",
      "\u001b[34mSM_LOG_LEVEL=20\u001b[0m\n",
      "\u001b[34mSM_FRAMEWORK_MODULE=sagemaker_tensorflow_container.training:main\u001b[0m\n",
      "\u001b[34mSM_INPUT_DIR=/opt/ml/input\u001b[0m\n",
      "\u001b[34mSM_INPUT_CONFIG_DIR=/opt/ml/input/config\u001b[0m\n",
      "\u001b[34mSM_OUTPUT_DIR=/opt/ml/output\u001b[0m\n",
      "\u001b[34mSM_NUM_CPUS=8\u001b[0m\n",
      "\u001b[34mSM_NUM_GPUS=1\u001b[0m\n",
      "\u001b[34mSM_MODEL_DIR=/opt/ml/model\u001b[0m\n",
      "\u001b[34mSM_MODULE_DIR=s3://sagemaker-us-east-1-579019700964/tensorflow-training-2021-01-19-11-10-36-328/source/sourcedir.tar.gz\u001b[0m\n",
      "\u001b[34mSM_TRAINING_ENV={\"additional_framework_parameters\":{},\"channel_input_dirs\":{\"training\":\"/opt/ml/input/data/training\"},\"current_host\":\"algo-1\",\"framework_module\":\"sagemaker_tensorflow_container.training:main\",\"hosts\":[\"algo-1\"],\"hyperparameters\":{\"model_dir\":\"/opt/ml/model\",\"model_name\":\"DeepFM\",\"train_steps\":10},\"input_config_dir\":\"/opt/ml/input/config\",\"input_data_config\":{\"training\":{\"RecordWrapperType\":\"None\",\"S3DistributionType\":\"FullyReplicated\",\"TrainingInputMode\":\"File\"}},\"input_dir\":\"/opt/ml/input\",\"is_master\":true,\"job_name\":\"tensorflow-training-2021-01-19-11-10-36-328\",\"log_level\":20,\"master_hostname\":\"algo-1\",\"model_dir\":\"/opt/ml/model\",\"module_dir\":\"s3://sagemaker-us-east-1-579019700964/tensorflow-training-2021-01-19-11-10-36-328/source/sourcedir.tar.gz\",\"module_name\":\"train_estimator\",\"network_interface_name\":\"eth0\",\"num_cpus\":8,\"num_gpus\":1,\"output_data_dir\":\"/opt/ml/output/data\",\"output_dir\":\"/opt/ml/output\",\"output_intermediate_dir\":\"/opt/ml/output/intermediate\",\"resource_config\":{\"current_host\":\"algo-1\",\"hosts\":[\"algo-1\"],\"network_interface_name\":\"eth0\"},\"user_entry_point\":\"train_estimator.py\"}\u001b[0m\n",
      "\u001b[34mSM_USER_ARGS=[\"--model_dir\",\"/opt/ml/model\",\"--model_name\",\"DeepFM\",\"--train_steps\",\"10\"]\u001b[0m\n",
      "\u001b[34mSM_OUTPUT_INTERMEDIATE_DIR=/opt/ml/output/intermediate\u001b[0m\n",
      "\u001b[34mSM_CHANNEL_TRAINING=/opt/ml/input/data/training\u001b[0m\n",
      "\u001b[34mSM_HP_TRAIN_STEPS=10\u001b[0m\n",
      "\u001b[34mSM_HP_MODEL_NAME=DeepFM\u001b[0m\n",
      "\u001b[34mSM_HP_MODEL_DIR=/opt/ml/model\u001b[0m\n",
      "\u001b[34mPYTHONPATH=/opt/ml/code:/usr/local/bin:/usr/local/lib/python37.zip:/usr/local/lib/python3.7:/usr/local/lib/python3.7/lib-dynload:/usr/local/lib/python3.7/site-packages\n",
      "\u001b[0m\n",
      "\u001b[34mInvoking script with the following command:\n",
      "\u001b[0m\n",
      "\u001b[34m/usr/local/bin/python3.7 train_estimator.py --model_dir /opt/ml/model --model_name DeepFM --train_steps 10\n",
      "\n",
      "\u001b[0m\n",
      "\u001b[34m{'fm_group': ['default_group'], 'dnn_hidden_units': (128, 128), 'cross_num': 2, 'cross_parameterization': 'vector', 'l2_reg_cross': 1e-05, 'l2_reg_linear': 1e-05, 'l2_reg_embedding': 1e-05, 'l2_reg_dnn': 0, 'seed': 1024, 'dnn_dropout': 0, 'dnn_activation': 'relu', 'dnn_use_bn': False, 'low_rank': 32, 'num_experts': 4}\u001b[0m\n",
      "\u001b[34m[2021-01-19 11:15:14.546 ip-10-0-226-138.ec2.internal:37 INFO json_config.py:90] Creating hook from json_config at /opt/ml/input/config/debughookconfig.json.\u001b[0m\n",
      "\u001b[34m[2021-01-19 11:15:14.547 ip-10-0-226-138.ec2.internal:37 INFO hook.py:192] tensorboard_dir has not been set for the hook. SMDebug will not be exporting tensorboard summaries.\u001b[0m\n",
      "\u001b[34m[2021-01-19 11:15:14.547 ip-10-0-226-138.ec2.internal:37 INFO hook.py:237] Saving to /opt/ml/output/tensors\u001b[0m\n",
      "\u001b[34m[2021-01-19 11:15:14.547 ip-10-0-226-138.ec2.internal:37 INFO state_store.py:67] The checkpoint config file /opt/ml/input/config/checkpointconfig.json does not exist.\u001b[0m\n",
      "\u001b[34m[2021-01-19 11:15:15.500 ip-10-0-226-138.ec2.internal:37 INFO hook.py:382] Monitoring the collections: sm_metrics, metrics, losses\u001b[0m\n",
      "\u001b[34m[2021-01-19 11:15:34.616 ip-10-0-226-138.ec2.internal:37 INFO hook.py:382] Monitoring the collections: sm_metrics, metrics, losses\u001b[0m\n",
      "\u001b[34mtest LogLoss inf\u001b[0m\n",
      "\u001b[34mtest AUC 0.6523\u001b[0m\n",
      "\u001b[34m2021-01-19 11:15:41,909 sagemaker-training-toolkit INFO     Reporting training SUCCESS\u001b[0m\n",
      "\n",
      "2021-01-19 11:16:06 Uploading - Uploading generated training model\n",
      "2021-01-19 11:16:06 Completed - Training job completed\n",
      "Training seconds: 158\n",
      "Billable seconds: 158\n"
     ]
    }
   ],
   "source": [
    "estimator = TensorFlow(entry_point='train_estimator.py',\n",
    "                       source_dir='.',\n",
    "                       train_instance_type='ml.p3.2xlarge', # Executes training in a ml.p2.xlarge/ml.p3.2xlarge/ml.p3.8xlarge instance\n",
    "                       train_instance_count=1,\n",
    "                       hyperparameters=hyperparameters,\n",
    "                       role=role,\n",
    "                       framework_version='2.2.0',\n",
    "                       py_version='py37',\n",
    "                       script_mode=True,\n",
    "                       model_dir='/opt/ml/model')\n",
    "\n",
    "estimator.fit({'training': inputs})"
   ]
  },
  {
   "cell_type": "markdown",
   "metadata": {},
   "source": [
    "## Git Support"
   ]
  },
  {
   "cell_type": "code",
   "execution_count": 44,
   "metadata": {
    "scrolled": true
   },
   "outputs": [
    {
     "name": "stderr",
     "output_type": "stream",
     "text": [
      "train_instance_type has been renamed in sagemaker>=2.\n",
      "See: https://sagemaker.readthedocs.io/en/stable/v2.html for details.\n",
      "train_instance_count has been renamed in sagemaker>=2.\n",
      "See: https://sagemaker.readthedocs.io/en/stable/v2.html for details.\n",
      "train_instance_type has been renamed in sagemaker>=2.\n",
      "See: https://sagemaker.readthedocs.io/en/stable/v2.html for details.\n"
     ]
    },
    {
     "name": "stdout",
     "output_type": "stream",
     "text": [
      "2021-01-09 18:38:55 Starting - Starting the training job...\n",
      "2021-01-09 18:39:19 Starting - Launching requested ML instancesProfilerReport-1610217534: InProgress\n",
      "......\n",
      "2021-01-09 18:40:25 Starting - Preparing the instances for training.........\n",
      "2021-01-09 18:41:49 Downloading - Downloading input data\n",
      "2021-01-09 18:41:49 Training - Downloading the training image.........\n",
      "2021-01-09 18:43:22 Training - Training image download completed. Training in progress..\u001b[34m2021-01-09 18:43:20,787 sagemaker-training-toolkit INFO     Imported framework sagemaker_tensorflow_container.training\u001b[0m\n",
      "\u001b[34m2021-01-09 18:43:21,167 sagemaker-training-toolkit INFO     Installing dependencies from requirements.txt:\u001b[0m\n",
      "\u001b[34m/usr/local/bin/python3.7 -m pip install -r requirements.txt\u001b[0m\n",
      "\u001b[34mCollecting deepctr[gpu]\n",
      "  Downloading deepctr-0.8.3-py3-none-any.whl (114 kB)\u001b[0m\n",
      "\u001b[34mRequirement already satisfied: pandas in /usr/local/lib/python3.7/site-packages (from -r requirements.txt (line 2)) (1.0.3)\u001b[0m\n",
      "\u001b[34mRequirement already satisfied: sklearn in /usr/local/lib/python3.7/site-packages (from -r requirements.txt (line 3)) (0.0)\u001b[0m\n",
      "\u001b[34mRequirement already satisfied: requests in /usr/local/lib/python3.7/site-packages (from deepctr[gpu]->-r requirements.txt (line 1)) (2.23.0)\u001b[0m\n",
      "\u001b[34mRequirement already satisfied: h5py==2.10.0 in /usr/local/lib/python3.7/site-packages (from deepctr[gpu]->-r requirements.txt (line 1)) (2.10.0)\u001b[0m\n",
      "\u001b[34mRequirement already satisfied: tensorflow-gpu!=1.7.*,!=1.8.*,>=1.4.0; extra == \"gpu\" in /usr/local/lib/python3.7/site-packages (from deepctr[gpu]->-r requirements.txt (line 1)) (2.2.0)\u001b[0m\n",
      "\u001b[34mRequirement already satisfied: numpy>=1.13.3 in /usr/local/lib/python3.7/site-packages (from pandas->-r requirements.txt (line 2)) (1.19.1)\u001b[0m\n",
      "\u001b[34mRequirement already satisfied: python-dateutil>=2.6.1 in /usr/local/lib/python3.7/site-packages (from pandas->-r requirements.txt (line 2)) (2.8.1)\u001b[0m\n",
      "\u001b[34mRequirement already satisfied: pytz>=2017.2 in /usr/local/lib/python3.7/site-packages (from pandas->-r requirements.txt (line 2)) (2020.1)\u001b[0m\n",
      "\u001b[34mRequirement already satisfied: scikit-learn in /usr/local/lib/python3.7/site-packages (from sklearn->-r requirements.txt (line 3)) (0.23.0)\u001b[0m\n",
      "\u001b[34mRequirement already satisfied: chardet<4,>=3.0.2 in /usr/local/lib/python3.7/site-packages (from requests->deepctr[gpu]->-r requirements.txt (line 1)) (3.0.4)\u001b[0m\n",
      "\u001b[34mRequirement already satisfied: urllib3!=1.25.0,!=1.25.1,<1.26,>=1.21.1 in /usr/local/lib/python3.7/site-packages (from requests->deepctr[gpu]->-r requirements.txt (line 1)) (1.25.10)\u001b[0m\n",
      "\u001b[34mRequirement already satisfied: certifi>=2017.4.17 in /usr/local/lib/python3.7/site-packages (from requests->deepctr[gpu]->-r requirements.txt (line 1)) (2020.6.20)\u001b[0m\n",
      "\u001b[34mRequirement already satisfied: idna<3,>=2.5 in /usr/local/lib/python3.7/site-packages (from requests->deepctr[gpu]->-r requirements.txt (line 1)) (2.10)\u001b[0m\n",
      "\u001b[34mRequirement already satisfied: six in /usr/local/lib/python3.7/site-packages (from h5py==2.10.0->deepctr[gpu]->-r requirements.txt (line 1)) (1.15.0)\u001b[0m\n",
      "\u001b[34mRequirement already satisfied: wheel>=0.26; python_version >= \"3\" in /usr/local/lib/python3.7/site-packages (from tensorflow-gpu!=1.7.*,!=1.8.*,>=1.4.0; extra == \"gpu\"->deepctr[gpu]->-r requirements.txt (line 1)) (0.35.1)\u001b[0m\n",
      "\u001b[34mRequirement already satisfied: scipy==1.4.1; python_version >= \"3\" in /usr/local/lib/python3.7/site-packages (from tensorflow-gpu!=1.7.*,!=1.8.*,>=1.4.0; extra == \"gpu\"->deepctr[gpu]->-r requirements.txt (line 1)) (1.4.1)\u001b[0m\n",
      "\u001b[34mRequirement already satisfied: opt-einsum>=2.3.2 in /usr/local/lib/python3.7/site-packages (from tensorflow-gpu!=1.7.*,!=1.8.*,>=1.4.0; extra == \"gpu\"->deepctr[gpu]->-r requirements.txt (line 1)) (3.3.0)\u001b[0m\n",
      "\u001b[34mRequirement already satisfied: termcolor>=1.1.0 in /usr/local/lib/python3.7/site-packages (from tensorflow-gpu!=1.7.*,!=1.8.*,>=1.4.0; extra == \"gpu\"->deepctr[gpu]->-r requirements.txt (line 1)) (1.1.0)\u001b[0m\n",
      "\u001b[34mRequirement already satisfied: absl-py>=0.7.0 in /usr/local/lib/python3.7/site-packages (from tensorflow-gpu!=1.7.*,!=1.8.*,>=1.4.0; extra == \"gpu\"->deepctr[gpu]->-r requirements.txt (line 1)) (0.10.0)\u001b[0m\n",
      "\u001b[34mRequirement already satisfied: keras-preprocessing>=1.1.0 in /usr/local/lib/python3.7/site-packages (from tensorflow-gpu!=1.7.*,!=1.8.*,>=1.4.0; extra == \"gpu\"->deepctr[gpu]->-r requirements.txt (line 1)) (1.1.2)\u001b[0m\n",
      "\u001b[34mRequirement already satisfied: tensorflow-estimator<2.3.0,>=2.2.0 in /usr/local/lib/python3.7/site-packages (from tensorflow-gpu!=1.7.*,!=1.8.*,>=1.4.0; extra == \"gpu\"->deepctr[gpu]->-r requirements.txt (line 1)) (2.2.0)\u001b[0m\n",
      "\u001b[34mRequirement already satisfied: wrapt>=1.11.1 in /usr/local/lib/python3.7/site-packages (from tensorflow-gpu!=1.7.*,!=1.8.*,>=1.4.0; extra == \"gpu\"->deepctr[gpu]->-r requirements.txt (line 1)) (1.12.1)\u001b[0m\n",
      "\u001b[34mRequirement already satisfied: tensorboard<2.3.0,>=2.2.0 in /usr/local/lib/python3.7/site-packages (from tensorflow-gpu!=1.7.*,!=1.8.*,>=1.4.0; extra == \"gpu\"->deepctr[gpu]->-r requirements.txt (line 1)) (2.2.2)\u001b[0m\n",
      "\u001b[34mRequirement already satisfied: gast==0.3.3 in /usr/local/lib/python3.7/site-packages (from tensorflow-gpu!=1.7.*,!=1.8.*,>=1.4.0; extra == \"gpu\"->deepctr[gpu]->-r requirements.txt (line 1)) (0.3.3)\u001b[0m\n",
      "\u001b[34mRequirement already satisfied: protobuf>=3.8.0 in /usr/local/lib/python3.7/site-packages (from tensorflow-gpu!=1.7.*,!=1.8.*,>=1.4.0; extra == \"gpu\"->deepctr[gpu]->-r requirements.txt (line 1)) (3.13.0)\u001b[0m\n",
      "\u001b[34mRequirement already satisfied: astunparse==1.6.3 in /usr/local/lib/python3.7/site-packages (from tensorflow-gpu!=1.7.*,!=1.8.*,>=1.4.0; extra == \"gpu\"->deepctr[gpu]->-r requirements.txt (line 1)) (1.6.3)\u001b[0m\n",
      "\u001b[34mRequirement already satisfied: grpcio>=1.8.6 in /usr/local/lib/python3.7/site-packages (from tensorflow-gpu!=1.7.*,!=1.8.*,>=1.4.0; extra == \"gpu\"->deepctr[gpu]->-r requirements.txt (line 1)) (1.31.0)\u001b[0m\n",
      "\u001b[34mRequirement already satisfied: google-pasta>=0.1.8 in /usr/local/lib/python3.7/site-packages (from tensorflow-gpu!=1.7.*,!=1.8.*,>=1.4.0; extra == \"gpu\"->deepctr[gpu]->-r requirements.txt (line 1)) (0.2.0)\u001b[0m\n",
      "\u001b[34mRequirement already satisfied: threadpoolctl>=2.0.0 in /usr/local/lib/python3.7/site-packages (from scikit-learn->sklearn->-r requirements.txt (line 3)) (2.1.0)\u001b[0m\n",
      "\u001b[34mRequirement already satisfied: joblib>=0.11 in /usr/local/lib/python3.7/site-packages (from scikit-learn->sklearn->-r requirements.txt (line 3)) (0.16.0)\u001b[0m\n",
      "\u001b[34mRequirement already satisfied: google-auth<2,>=1.6.3 in /usr/local/lib/python3.7/site-packages (from tensorboard<2.3.0,>=2.2.0->tensorflow-gpu!=1.7.*,!=1.8.*,>=1.4.0; extra == \"gpu\"->deepctr[gpu]->-r requirements.txt (line 1)) (1.21.0)\u001b[0m\n",
      "\u001b[34mRequirement already satisfied: markdown>=2.6.8 in /usr/local/lib/python3.7/site-packages (from tensorboard<2.3.0,>=2.2.0->tensorflow-gpu!=1.7.*,!=1.8.*,>=1.4.0; extra == \"gpu\"->deepctr[gpu]->-r requirements.txt (line 1)) (3.2.2)\u001b[0m\n",
      "\u001b[34mRequirement already satisfied: werkzeug>=0.11.15 in /usr/local/lib/python3.7/site-packages (from tensorboard<2.3.0,>=2.2.0->tensorflow-gpu!=1.7.*,!=1.8.*,>=1.4.0; extra == \"gpu\"->deepctr[gpu]->-r requirements.txt (line 1)) (1.0.1)\u001b[0m\n",
      "\u001b[34mRequirement already satisfied: google-auth-oauthlib<0.5,>=0.4.1 in /usr/local/lib/python3.7/site-packages (from tensorboard<2.3.0,>=2.2.0->tensorflow-gpu!=1.7.*,!=1.8.*,>=1.4.0; extra == \"gpu\"->deepctr[gpu]->-r requirements.txt (line 1)) (0.4.1)\u001b[0m\n",
      "\u001b[34mRequirement already satisfied: tensorboard-plugin-wit>=1.6.0 in /usr/local/lib/python3.7/site-packages (from tensorboard<2.3.0,>=2.2.0->tensorflow-gpu!=1.7.*,!=1.8.*,>=1.4.0; extra == \"gpu\"->deepctr[gpu]->-r requirements.txt (line 1)) (1.7.0)\u001b[0m\n",
      "\u001b[34mRequirement already satisfied: setuptools>=41.0.0 in /usr/local/lib/python3.7/site-packages (from tensorboard<2.3.0,>=2.2.0->tensorflow-gpu!=1.7.*,!=1.8.*,>=1.4.0; extra == \"gpu\"->deepctr[gpu]->-r requirements.txt (line 1)) (50.1.0)\u001b[0m\n",
      "\u001b[34mRequirement already satisfied: cachetools<5.0,>=2.0.0 in /usr/local/lib/python3.7/site-packages (from google-auth<2,>=1.6.3->tensorboard<2.3.0,>=2.2.0->tensorflow-gpu!=1.7.*,!=1.8.*,>=1.4.0; extra == \"gpu\"->deepctr[gpu]->-r requirements.txt (line 1)) (4.1.1)\u001b[0m\n",
      "\u001b[34mRequirement already satisfied: rsa<5,>=3.1.4; python_version >= \"3.5\" in /usr/local/lib/python3.7/site-packages (from google-auth<2,>=1.6.3->tensorboard<2.3.0,>=2.2.0->tensorflow-gpu!=1.7.*,!=1.8.*,>=1.4.0; extra == \"gpu\"->deepctr[gpu]->-r requirements.txt (line 1)) (4.5)\u001b[0m\n",
      "\u001b[34mRequirement already satisfied: pyasn1-modules>=0.2.1 in /usr/local/lib/python3.7/site-packages (from google-auth<2,>=1.6.3->tensorboard<2.3.0,>=2.2.0->tensorflow-gpu!=1.7.*,!=1.8.*,>=1.4.0; extra == \"gpu\"->deepctr[gpu]->-r requirements.txt (line 1)) (0.2.8)\u001b[0m\n",
      "\u001b[34mRequirement already satisfied: importlib-metadata; python_version < \"3.8\" in /usr/local/lib/python3.7/site-packages (from markdown>=2.6.8->tensorboard<2.3.0,>=2.2.0->tensorflow-gpu!=1.7.*,!=1.8.*,>=1.4.0; extra == \"gpu\"->deepctr[gpu]->-r requirements.txt (line 1)) (1.7.0)\u001b[0m\n",
      "\u001b[34mRequirement already satisfied: requests-oauthlib>=0.7.0 in /usr/local/lib/python3.7/site-packages (from google-auth-oauthlib<0.5,>=0.4.1->tensorboard<2.3.0,>=2.2.0->tensorflow-gpu!=1.7.*,!=1.8.*,>=1.4.0; extra == \"gpu\"->deepctr[gpu]->-r requirements.txt (line 1)) (1.3.0)\u001b[0m\n",
      "\u001b[34mRequirement already satisfied: pyasn1>=0.1.3 in /usr/local/lib/python3.7/site-packages (from rsa<5,>=3.1.4; python_version >= \"3.5\"->google-auth<2,>=1.6.3->tensorboard<2.3.0,>=2.2.0->tensorflow-gpu!=1.7.*,!=1.8.*,>=1.4.0; extra == \"gpu\"->deepctr[gpu]->-r requirements.txt (line 1)) (0.4.8)\u001b[0m\n",
      "\u001b[34mRequirement already satisfied: zipp>=0.5 in /usr/local/lib/python3.7/site-packages (from importlib-metadata; python_version < \"3.8\"->markdown>=2.6.8->tensorboard<2.3.0,>=2.2.0->tensorflow-gpu!=1.7.*,!=1.8.*,>=1.4.0; extra == \"gpu\"->deepctr[gpu]->-r requirements.txt (line 1)) (3.1.0)\u001b[0m\n",
      "\u001b[34mRequirement already satisfied: oauthlib>=3.0.0 in /usr/local/lib/python3.7/site-packages (from requests-oauthlib>=0.7.0->google-auth-oauthlib<0.5,>=0.4.1->tensorboard<2.3.0,>=2.2.0->tensorflow-gpu!=1.7.*,!=1.8.*,>=1.4.0; extra == \"gpu\"->deepctr[gpu]->-r requirements.txt (line 1)) (3.1.0)\u001b[0m\n",
      "\u001b[34mInstalling collected packages: deepctr\u001b[0m\n",
      "\u001b[34mSuccessfully installed deepctr-0.8.3\u001b[0m\n",
      "\u001b[34m2021-01-09 18:43:22,774 sagemaker-training-toolkit INFO     Invoking user script\n",
      "\u001b[0m\n",
      "\u001b[34mTraining Env:\n",
      "\u001b[0m\n",
      "\u001b[34m{\n",
      "    \"additional_framework_parameters\": {},\n",
      "    \"channel_input_dirs\": {\n",
      "        \"training\": \"/opt/ml/input/data/training\"\n",
      "    },\n",
      "    \"current_host\": \"algo-1\",\n",
      "    \"framework_module\": \"sagemaker_tensorflow_container.training:main\",\n",
      "    \"hosts\": [\n",
      "        \"algo-1\"\n",
      "    ],\n",
      "    \"hyperparameters\": {\n",
      "        \"train_steps\": 10,\n",
      "        \"model_dir\": \"/opt/ml/model\"\n",
      "    },\n",
      "    \"input_config_dir\": \"/opt/ml/input/config\",\n",
      "    \"input_data_config\": {\n",
      "        \"training\": {\n",
      "            \"TrainingInputMode\": \"File\",\n",
      "            \"S3DistributionType\": \"FullyReplicated\",\n",
      "            \"RecordWrapperType\": \"None\"\n",
      "        }\n",
      "    },\n",
      "    \"input_dir\": \"/opt/ml/input\",\n",
      "    \"is_master\": true,\n",
      "    \"job_name\": \"tensorflow-training-2021-01-09-18-38-54-441\",\n",
      "    \"log_level\": 20,\n",
      "    \"master_hostname\": \"algo-1\",\n",
      "    \"model_dir\": \"/opt/ml/model\",\n",
      "    \"module_dir\": \"s3://sagemaker-us-east-1-579019700964/tensorflow-training-2021-01-09-18-38-54-441/source/sourcedir.tar.gz\",\n",
      "    \"module_name\": \"train\",\n",
      "    \"network_interface_name\": \"eth0\",\n",
      "    \"num_cpus\": 8,\n",
      "    \"num_gpus\": 1,\n",
      "    \"output_data_dir\": \"/opt/ml/output/data\",\n",
      "    \"output_dir\": \"/opt/ml/output\",\n",
      "    \"output_intermediate_dir\": \"/opt/ml/output/intermediate\",\n",
      "    \"resource_config\": {\n",
      "        \"current_host\": \"algo-1\",\n",
      "        \"hosts\": [\n",
      "            \"algo-1\"\n",
      "        ],\n",
      "        \"network_interface_name\": \"eth0\"\n",
      "    },\n",
      "    \"user_entry_point\": \"train.py\"\u001b[0m\n",
      "\u001b[34m}\n",
      "\u001b[0m\n",
      "\u001b[34mEnvironment variables:\n",
      "\u001b[0m\n",
      "\u001b[34mSM_HOSTS=[\"algo-1\"]\u001b[0m\n",
      "\u001b[34mSM_NETWORK_INTERFACE_NAME=eth0\u001b[0m\n",
      "\u001b[34mSM_HPS={\"model_dir\":\"/opt/ml/model\",\"train_steps\":10}\u001b[0m\n",
      "\u001b[34mSM_USER_ENTRY_POINT=train.py\u001b[0m\n",
      "\u001b[34mSM_FRAMEWORK_PARAMS={}\u001b[0m\n",
      "\u001b[34mSM_RESOURCE_CONFIG={\"current_host\":\"algo-1\",\"hosts\":[\"algo-1\"],\"network_interface_name\":\"eth0\"}\u001b[0m\n",
      "\u001b[34mSM_INPUT_DATA_CONFIG={\"training\":{\"RecordWrapperType\":\"None\",\"S3DistributionType\":\"FullyReplicated\",\"TrainingInputMode\":\"File\"}}\u001b[0m\n",
      "\u001b[34mSM_OUTPUT_DATA_DIR=/opt/ml/output/data\u001b[0m\n",
      "\u001b[34mSM_CHANNELS=[\"training\"]\u001b[0m\n",
      "\u001b[34mSM_CURRENT_HOST=algo-1\u001b[0m\n",
      "\u001b[34mSM_MODULE_NAME=train\u001b[0m\n",
      "\u001b[34mSM_LOG_LEVEL=20\u001b[0m\n",
      "\u001b[34mSM_FRAMEWORK_MODULE=sagemaker_tensorflow_container.training:main\u001b[0m\n",
      "\u001b[34mSM_INPUT_DIR=/opt/ml/input\u001b[0m\n",
      "\u001b[34mSM_INPUT_CONFIG_DIR=/opt/ml/input/config\u001b[0m\n",
      "\u001b[34mSM_OUTPUT_DIR=/opt/ml/output\u001b[0m\n",
      "\u001b[34mSM_NUM_CPUS=8\u001b[0m\n",
      "\u001b[34mSM_NUM_GPUS=1\u001b[0m\n",
      "\u001b[34mSM_MODEL_DIR=/opt/ml/model\u001b[0m\n",
      "\u001b[34mSM_MODULE_DIR=s3://sagemaker-us-east-1-579019700964/tensorflow-training-2021-01-09-18-38-54-441/source/sourcedir.tar.gz\u001b[0m\n",
      "\u001b[34mSM_TRAINING_ENV={\"additional_framework_parameters\":{},\"channel_input_dirs\":{\"training\":\"/opt/ml/input/data/training\"},\"current_host\":\"algo-1\",\"framework_module\":\"sagemaker_tensorflow_container.training:main\",\"hosts\":[\"algo-1\"],\"hyperparameters\":{\"model_dir\":\"/opt/ml/model\",\"train_steps\":10},\"input_config_dir\":\"/opt/ml/input/config\",\"input_data_config\":{\"training\":{\"RecordWrapperType\":\"None\",\"S3DistributionType\":\"FullyReplicated\",\"TrainingInputMode\":\"File\"}},\"input_dir\":\"/opt/ml/input\",\"is_master\":true,\"job_name\":\"tensorflow-training-2021-01-09-18-38-54-441\",\"log_level\":20,\"master_hostname\":\"algo-1\",\"model_dir\":\"/opt/ml/model\",\"module_dir\":\"s3://sagemaker-us-east-1-579019700964/tensorflow-training-2021-01-09-18-38-54-441/source/sourcedir.tar.gz\",\"module_name\":\"train\",\"network_interface_name\":\"eth0\",\"num_cpus\":8,\"num_gpus\":1,\"output_data_dir\":\"/opt/ml/output/data\",\"output_dir\":\"/opt/ml/output\",\"output_intermediate_dir\":\"/opt/ml/output/intermediate\",\"resource_config\":{\"current_host\":\"algo-1\",\"hosts\":[\"algo-1\"],\"network_interface_name\":\"eth0\"},\"user_entry_point\":\"train.py\"}\u001b[0m\n",
      "\u001b[34mSM_USER_ARGS=[\"--model_dir\",\"/opt/ml/model\",\"--train_steps\",\"10\"]\u001b[0m\n",
      "\u001b[34mSM_OUTPUT_INTERMEDIATE_DIR=/opt/ml/output/intermediate\u001b[0m\n",
      "\u001b[34mSM_CHANNEL_TRAINING=/opt/ml/input/data/training\u001b[0m\n",
      "\u001b[34mSM_HP_TRAIN_STEPS=10\u001b[0m\n",
      "\u001b[34mSM_HP_MODEL_DIR=/opt/ml/model\u001b[0m\n",
      "\u001b[34mPYTHONPATH=/opt/ml/code:/usr/local/bin:/usr/local/lib/python37.zip:/usr/local/lib/python3.7:/usr/local/lib/python3.7/lib-dynload:/usr/local/lib/python3.7/site-packages\n",
      "\u001b[0m\n",
      "\u001b[34mInvoking script with the following command:\n",
      "\u001b[0m\n",
      "\u001b[34m/usr/local/bin/python3.7 train.py --model_dir /opt/ml/model --train_steps 10\n",
      "\n",
      "\u001b[0m\n",
      "\u001b[34mgpus: 1\u001b[0m\n",
      "\u001b[34m[2021-01-09 18:43:30.366 ip-10-0-220-61.ec2.internal:37 INFO json_config.py:90] Creating hook from json_config at /opt/ml/input/config/debughookconfig.json.\u001b[0m\n",
      "\u001b[34m[2021-01-09 18:43:30.366 ip-10-0-220-61.ec2.internal:37 INFO hook.py:192] tensorboard_dir has not been set for the hook. SMDebug will not be exporting tensorboard summaries.\u001b[0m\n",
      "\u001b[34m[2021-01-09 18:43:30.366 ip-10-0-220-61.ec2.internal:37 INFO hook.py:237] Saving to /opt/ml/output/tensors\u001b[0m\n",
      "\u001b[34m[2021-01-09 18:43:30.366 ip-10-0-220-61.ec2.internal:37 INFO state_store.py:67] The checkpoint config file /opt/ml/input/config/checkpointconfig.json does not exist.\u001b[0m\n",
      "\u001b[34mEpoch 1/10\u001b[0m\n",
      "\u001b[34m[2021-01-09 18:43:30.498 ip-10-0-220-61.ec2.internal:37 INFO hook.py:382] Monitoring the collections: sm_metrics, metrics, losses\u001b[0m\n",
      "\u001b[34m1/1 - 2s - loss: 0.7803 - binary_crossentropy: 0.7803 - val_loss: 0.7653 - val_binary_crossentropy: 0.7653 - batch: 0.0000e+00\u001b[0m\n",
      "\u001b[34mEpoch 2/10\u001b[0m\n",
      "\u001b[34m1/1 - 0s - loss: 0.7573 - binary_crossentropy: 0.7573 - val_loss: 0.7510 - val_binary_crossentropy: 0.7510 - batch: 1.0000\u001b[0m\n",
      "\u001b[34mEpoch 3/10\u001b[0m\n",
      "\u001b[34m1/1 - 0s - loss: 0.7352 - binary_crossentropy: 0.7352 - val_loss: 0.7374 - val_binary_crossentropy: 0.7374 - batch: 2.0000\u001b[0m\n",
      "\u001b[34mEpoch 4/10\u001b[0m\n",
      "\u001b[34m1/1 - 0s - loss: 0.7140 - binary_crossentropy: 0.7139 - val_loss: 0.7243 - val_binary_crossentropy: 0.7243 - batch: 3.0000\u001b[0m\n",
      "\u001b[34mEpoch 5/10\u001b[0m\n",
      "\u001b[34m1/1 - 0s - loss: 0.6935 - binary_crossentropy: 0.6935 - val_loss: 0.7117 - val_binary_crossentropy: 0.7117 - batch: 4.0000\u001b[0m\n",
      "\u001b[34mEpoch 6/10\u001b[0m\n",
      "\u001b[34m1/1 - 0s - loss: 0.6738 - binary_crossentropy: 0.6738 - val_loss: 0.6994 - val_binary_crossentropy: 0.6994 - batch: 5.0000\u001b[0m\n",
      "\u001b[34mEpoch 7/10\u001b[0m\n",
      "\u001b[34m1/1 - 0s - loss: 0.6545 - binary_crossentropy: 0.6545 - val_loss: 0.6874 - val_binary_crossentropy: 0.6874 - batch: 6.0000\u001b[0m\n",
      "\u001b[34mEpoch 8/10\u001b[0m\n",
      "\u001b[34m1/1 - 0s - loss: 0.6356 - binary_crossentropy: 0.6356 - val_loss: 0.6756 - val_binary_crossentropy: 0.6756 - batch: 7.0000\u001b[0m\n",
      "\u001b[34mEpoch 9/10\u001b[0m\n",
      "\u001b[34m1/1 - 0s - loss: 0.6169 - binary_crossentropy: 0.6169 - val_loss: 0.6643 - val_binary_crossentropy: 0.6643 - batch: 8.0000\u001b[0m\n",
      "\u001b[34mEpoch 10/10\u001b[0m\n",
      "\u001b[34m1/1 - 0s - loss: 0.5984 - binary_crossentropy: 0.5983 - val_loss: 0.6532 - val_binary_crossentropy: 0.6532 - batch: 9.0000\u001b[0m\n",
      "\u001b[34msetting an array element with a sequence.\u001b[0m\n",
      "\u001b[34msetting an array element with a sequence.\u001b[0m\n",
      "\u001b[34m2021-01-09 18:43:43,898 sagemaker_tensorflow_container.training WARNING  Your model will NOT be servable with SageMaker TensorFlow Serving container. The model artifact was not saved in the TensorFlow SavedModel directory structure:\u001b[0m\n",
      "\u001b[34mhttps://www.tensorflow.org/guide/saved_model#structure_of_a_savedmodel_directory\u001b[0m\n",
      "\u001b[34m2021-01-09 18:43:43,898 sagemaker-training-toolkit INFO     Reporting training SUCCESS\u001b[0m\n",
      "\n",
      "2021-01-09 18:43:56 Uploading - Uploading generated training model\n",
      "2021-01-09 18:43:56 Completed - Training job completed\n",
      "Training seconds: 134\n",
      "Billable seconds: 134\n"
     ]
    }
   ],
   "source": [
    "git_config = {'repo': 'https://github.com/whn09/deepctr_sagemaker.git', 'branch': 'main'}\n",
    "\n",
    "estimator = TensorFlow(entry_point='train.py',\n",
    "                       source_dir='.',\n",
    "                       git_config=git_config,\n",
    "                       train_instance_type='ml.p3.2xlarge', # Executes training in a ml.p2.xlarge instance\n",
    "                       train_instance_count=1,\n",
    "                       hyperparameters=hyperparameters,\n",
    "                       role=role,\n",
    "                       framework_version='2.2.0',\n",
    "                       py_version='py37',\n",
    "                       script_mode=True,\n",
    "                       model_dir='/opt/ml/model')\n",
    "\n",
    "estimator.fit({'training': inputs})"
   ]
  },
  {
   "cell_type": "markdown",
   "metadata": {},
   "source": [
    "## Deploy the trained model to an endpoint\n",
    "\n",
    "The deploy() method creates a SageMaker model, which is then deployed to an endpoint to serve prediction requests in real time. We will use the TensorFlow Serving container for the endpoint, because we trained with script mode. This serving container runs an implementation of a web server that is compatible with SageMaker hosting protocol. The Using your own inference code document explains how SageMaker runs inference containers."
   ]
  },
  {
   "cell_type": "code",
   "execution_count": 13,
   "metadata": {},
   "outputs": [
    {
     "name": "stderr",
     "output_type": "stream",
     "text": [
      "update_endpoint is a no-op in sagemaker>=2.\n",
      "See: https://sagemaker.readthedocs.io/en/stable/v2.html for details.\n"
     ]
    },
    {
     "name": "stdout",
     "output_type": "stream",
     "text": [
      "-----------------!"
     ]
    }
   ],
   "source": [
    "predictor = estimator.deploy(initial_instance_count=1, instance_type='ml.m4.xlarge')"
   ]
  },
  {
   "cell_type": "markdown",
   "metadata": {},
   "source": [
    "## Invoke the endpoint\n",
    "\n",
    "Let's download the training data and use that as input for inference."
   ]
  },
  {
   "cell_type": "code",
   "execution_count": 34,
   "metadata": {},
   "outputs": [],
   "source": [
    "import json\n",
    "\n",
    "def test_REST_serving():\n",
    "    '''\n",
    "    test rest api \n",
    "    '''\n",
    "    fea_dict1 = {'I1':[0.0],'I2':[0.001332],'I3':[0.092362],'I4':[0.0],'I5':[0.034825],'I6':[0.0],'I7':[0.0],'I8':[0.673468],'I9':[0.0],'I10':[0.0],'I11':[0.0],'I12':[0.0],'I13':[0.0],'C1':[0],'C2':[4],'C3':[96],'C4':[146],'C5':[1],'C6':[4],'C7':[163],'C8':[1],'C9':[1],'C10':[72],'C11':[117],'C12':[127],'C13':[157],'C14':[7],'C15':[127],'C16':[126],'C17':[8],'C18':[66],'C19':[0],'C20':[0],'C21':[3],'C22':[0],'C23':[1],'C24':[96],'C25':[0],'C26':[0]}\n",
    "    fea_dict2 = {'I1':[0.0],'I2':[0.0],'I3':[0.00675],'I4':[0.402298],'I5':[0.059628],'I6':[0.117284],'I7':[0.003322],'I8':[0.714284],'I9':[0.154739],'I10':[0.0],'I11':[0.03125],'I12':[0.0],'I13':[0.343137],'C1':[11],'C2':[1],'C3':[98],'C4':[98],'C5':[1],'C6':[6],'C7':[179],'C8':[0],'C9':[1],'C10':[89],'C11':[58],'C12':[97],'C13':[79],'C14':[7],'C15':[72],'C16':[26],'C17':[7],'C18':[52],'C19':[0],'C20':[0],'C21':[47],'C22':[0],'C23':[7],'C24':[112],'C25':[0],'C26':[0]}\n",
    "    fea_dict3 = {'I1':[0.0],'I2':[0.000333],'I3':[0.00071],'I4':[0.137931],'I5':[0.003968],'I6':[0.077873],'I7':[0.019934],'I8':[0.714284],'I9':[0.505803],'I10':[0.0],'I11':[0.09375],'I12':[0.0],'I13':[0.17647],'C1':[0],'C2':[18],'C3':[39],'C4':[52],'C5':[3],'C6':[4],'C7':[140],'C8':[2],'C9':[1],'C10':[93],'C11':[31],'C12':[122],'C13':[16],'C14':[7],'C15':[129],'C16':[97],'C17':[8],'C18':[49],'C19':[0],'C20':[0],'C21':[25],'C22':[0],'C23':[6],'C24':[53],'C25':[0],'C26':[0]}\n",
    "    fea_dict4 = {'I1':[0.0],'I2':[0.004664],'I3':[0.000355],'I4':[0.045977],'I5':[0.033185],'I6':[0.094967],'I7':[0.016611],'I8':[0.081632],'I9':[0.028046],'I10':[0.0],'I11':[0.0625],'I12':[0.0],'I13':[0.039216],'C1':[0],'C2':[45],'C3':[7],'C4':[117],'C5':[1],'C6':[0],'C7':[164],'C8':[1],'C9':[0],'C10':[20],'C11':[61],'C12':[104],'C13':[36],'C14':[1],'C15':[43],'C16':[43],'C17':[8],'C18':[37],'C19':[0],'C20':[0],'C21':[156],'C22':[0],'C23':[0],'C24':[32],'C25':[0],'C26':[0]}\n",
    "    fea_dict5 = {'I1':[0.0],'I2':[0.000333],'I3':[0.036945],'I4':[0.310344],'I5':[0.003922],'I6':[0.067426],'I7':[0.013289],'I8':[0.65306],'I9':[0.035783],'I10':[0.0],'I11':[0.03125],'I12':[0.0],'I13':[0.264706],'C1':[0],'C2':[11],'C3':[59],'C4':[77],'C5':[1],'C6':[5],'C7':[18],'C8':[1],'C9':[1],'C10':[45],'C11':[171],'C12':[162],'C13':[96],'C14':[4],'C15':[36],'C16':[121],'C17':[8],'C18':[14],'C19':[5],'C20':[3],'C21':[9],'C22':[0],'C23':[0],'C24':[5],'C25':[1],'C26':[47]}\n",
    "\n",
    "    data = {\"instances\": [fea_dict1,fea_dict2,fea_dict3,fea_dict4,fea_dict5]}\n",
    "    # print(data)\n",
    "\n",
    "    json_response = predictor.predict(data)\n",
    "    predictions = json_response['predictions']\n",
    "#     print(predictions)\n",
    "    return predictions"
   ]
  },
  {
   "cell_type": "code",
   "execution_count": 35,
   "metadata": {},
   "outputs": [
    {
     "data": {
      "text/plain": [
       "[{'logits': [-5.87468815], 'pred': [0.00280179805]},\n",
       " {'logits': [-7.26665306], 'pred': [0.000697958225]},\n",
       " {'logits': [0.18031919], 'pred': [0.544958055]},\n",
       " {'logits': [-2.74384737], 'pred': [0.0604350679]},\n",
       " {'logits': [-5.67439556], 'pred': [0.003421]}]"
      ]
     },
     "execution_count": 35,
     "metadata": {},
     "output_type": "execute_result"
    }
   ],
   "source": [
    "test_REST_serving()"
   ]
  },
  {
   "cell_type": "markdown",
   "metadata": {},
   "source": [
    "## Delete the endpoint\n",
    "\n",
    "Let's delete the endpoint we just created to prevent incurring any extra costs."
   ]
  },
  {
   "cell_type": "code",
   "execution_count": 36,
   "metadata": {},
   "outputs": [
    {
     "name": "stderr",
     "output_type": "stream",
     "text": [
      "The endpoint attribute has been renamed in sagemaker>=2.\n",
      "See: https://sagemaker.readthedocs.io/en/stable/v2.html for details.\n"
     ]
    }
   ],
   "source": [
    "sagemaker.Session().delete_endpoint(predictor.endpoint)"
   ]
  },
  {
   "cell_type": "code",
   "execution_count": null,
   "metadata": {},
   "outputs": [],
   "source": []
  }
 ],
 "metadata": {
  "kernelspec": {
   "display_name": "conda_tensorflow_p36",
   "language": "python",
   "name": "conda_tensorflow_p36"
  },
  "language_info": {
   "codemirror_mode": {
    "name": "ipython",
    "version": 3
   },
   "file_extension": ".py",
   "mimetype": "text/x-python",
   "name": "python",
   "nbconvert_exporter": "python",
   "pygments_lexer": "ipython3",
   "version": "3.6.10"
  }
 },
 "nbformat": 4,
 "nbformat_minor": 4
}
